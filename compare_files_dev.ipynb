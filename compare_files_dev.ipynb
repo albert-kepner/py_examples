{
 "cells": [
  {
   "cell_type": "code",
   "execution_count": 1,
   "id": "d84a6e5f-34b8-4f4a-916e-8eab5bffc1f5",
   "metadata": {},
   "outputs": [],
   "source": [
    "import os\n",
    "import codecs\n",
    "def count_utf8(path):\n",
    "    if(os.path.isfile(path)):\n",
    "        with codecs.open(path, 'r', 'utf-8') as infile:\n",
    "            count = len(infile.readlines()) \n",
    "    return count"
   ]
  },
  {
   "cell_type": "code",
   "execution_count": 2,
   "id": "1cbbf584-704b-4267-8037-f803fb09844d",
   "metadata": {},
   "outputs": [
    {
     "name": "stdout",
     "output_type": "stream",
     "text": [
      "44\n",
      "44\n"
     ]
    }
   ],
   "source": [
    "badpath1 = \"C:/LOGS/2024_07_JUL/JULY_10_CMP1/outbound/report/07102024/MA/MA_20240710.dat\"\n",
    "print(count_utf8(badpath1))\n",
    "badpath2 = \"C:/LOGS/2024_07_JUL/JULY_10_CMP2/outbound/report/07102024/MA/MA_20240710.dat\"\n",
    "print(count_utf8(badpath2))"
   ]
  },
  {
   "cell_type": "code",
   "execution_count": 3,
   "id": "176cf501-89c1-456e-8e55-c4612b03d957",
   "metadata": {},
   "outputs": [],
   "source": [
    "## Function to recursively copy a directory, and process each file in destination directory.\n",
    "\n",
    "import shutil\n",
    "import os\n",
    "def process_tree(src, dest, func=None, verbose=False):\n",
    "    os.makedirs(dest, exist_ok=True)\n",
    "    with os.scandir(src) as entries:\n",
    "        for entry in entries:\n",
    "            src2 = os.path.join(src, entry.name)\n",
    "            dest2 = os.path.join(dest, entry.name)\n",
    "\n",
    "            if entry.is_file():\n",
    "                if(verbose):\n",
    "                    print('File: '+entry.name)\n",
    "                shutil.copy(src2, dest2)\n",
    "                if func:\n",
    "                    func(dest2)\n",
    "                \n",
    "            if entry.is_dir():\n",
    "                if(verbose):\n",
    "                    print('Dir: '+entry.name)\n",
    "                process_tree(src2, dest2, func, verbose)"
   ]
  },
  {
   "cell_type": "code",
   "execution_count": 4,
   "id": "01110c1f-6e6b-4048-9640-311a3835a5c1",
   "metadata": {},
   "outputs": [],
   "source": [
    "## Function to act as generator for all files in a directory.\n",
    "\n",
    "def walk_dir_gen(src):\n",
    "    with os.scandir(src) as entries:\n",
    "        for entry in entries:\n",
    "            src2 = os.path.join(src, entry.name)\n",
    "            yield src2"
   ]
  },
  {
   "cell_type": "code",
   "execution_count": 5,
   "id": "762ef5e9-b8b8-4ed7-90d3-6c51be0ebe56",
   "metadata": {},
   "outputs": [
    {
     "name": "stdout",
     "output_type": "stream",
     "text": [
      "C:/LOGS/2024_08_AUG/AUG_20_CMP1\\outbound\n"
     ]
    }
   ],
   "source": [
    "testpath = \"C:/LOGS/2024_08_AUG/AUG_20_CMP1\"\n",
    "\n",
    "for src in walk_dir_gen(testpath):\n",
    "    print(src)"
   ]
  },
  {
   "cell_type": "code",
   "execution_count": 6,
   "id": "abafef48-cb56-401e-96ae-0358da7988d0",
   "metadata": {},
   "outputs": [],
   "source": [
    "from collections import deque\n",
    "\n",
    "def walk_tree_gen(src):\n",
    "    op_stack = deque()\n",
    "    op_stack.append(os.path.abspath(src))\n",
    "\n",
    "    while True:\n",
    "        if len(op_stack) == 0:\n",
    "            return\n",
    "        src2 = op_stack.popleft()\n",
    "        if os.path.isfile(src2):\n",
    "            yield src2\n",
    "            continue\n",
    "        if os.path.isdir(src2):\n",
    "            for src3 in walk_dir_gen(src2):\n",
    "                op_stack.append(src3)"
   ]
  },
  {
   "cell_type": "markdown",
   "id": "f6760737-4795-4651-b607-5b3efdfe06d5",
   "metadata": {},
   "source": [
    "for file_1 in walk_tree_gen(testpath):\n",
    "    print(f'    FILE: {file_1}')"
   ]
  },
  {
   "cell_type": "code",
   "execution_count": 7,
   "id": "87559af9-33ad-4cfb-b873-cfcf93e71bc8",
   "metadata": {},
   "outputs": [],
   "source": [
    "badpath1 = \"C:/LOGS/2024_07_JUL/JULY_10_CMP1/outbound/report/07102024/MA/MA_20240710.dat\"\n",
    "badpath2 = \"C:/LOGS/2024_07_JUL/JULY_10_CMP2/outbound/report/07102024/MA/MA_20240710.dat\""
   ]
  },
  {
   "cell_type": "code",
   "execution_count": 8,
   "id": "efc5c45e-ae5c-4006-abf8-b19b8e52d10b",
   "metadata": {},
   "outputs": [],
   "source": [
    "import re\n",
    "import Levenshtein as lv\n",
    "import pandas as pd\n",
    "\n",
    "def get_lines_match(path1, path2):\n",
    "    lines1 = []\n",
    "    lines2 = []\n",
    "    with codecs.open(path1, 'r', 'utf-8') as in1:\n",
    "        lines1 = in1.readlines()\n",
    "    with codecs.open(path2, 'r', 'utf-8') as in2:\n",
    "        lines2 = in2.readlines()\n",
    "    assert len(lines1) == len(lines2)\n",
    "    lines_match = 0\n",
    "    sum_dist = 0\n",
    "    max_dist = 0\n",
    "\n",
    "    for i in range(len(lines1)):\n",
    "        if lines1[i] == lines2[i]:\n",
    "            lines_match = lines_match + 1\n",
    "        else:\n",
    "            dist = lv.distance(lines1[i], lines2[i])\n",
    "            sum_dist = sum_dist + dist\n",
    "            if dist > max_dist:\n",
    "                max_dist = dist\n",
    "    return (lines_match, sum_dist, max_dist)\n",
    "        \n",
    "   "
   ]
  },
  {
   "cell_type": "code",
   "execution_count": 9,
   "id": "2b8deaf7-7363-4bb1-baa6-b121e83fbe92",
   "metadata": {},
   "outputs": [
    {
     "data": {
      "text/plain": [
       "(43, 1, 1)"
      ]
     },
     "execution_count": 9,
     "metadata": {},
     "output_type": "execute_result"
    }
   ],
   "source": [
    "get_lines_match(badpath1, badpath2)"
   ]
  },
  {
   "cell_type": "code",
   "execution_count": 10,
   "id": "6040c605-ee89-4391-bdd8-f8857f640f80",
   "metadata": {},
   "outputs": [],
   "source": [
    "import re\n",
    "import Levenshtein as lv\n",
    "import pandas as pd\n",
    "\n",
    "def compare_trees(src1, src2):\n",
    "    pf1 = walk_tree_gen(src1)\n",
    "    pf2 = walk_tree_gen(src2)\n",
    "    f1 = None\n",
    "    f2 = None\n",
    "    data = []\n",
    "\n",
    "    while True:\n",
    "        try:\n",
    "            if f1 == f2:\n",
    "                path1 = next(pf1,None)\n",
    "                path2 = next(pf2,None)\n",
    "            else:\n",
    "                local_dir1 = re.sub(r'^.*outbound\\\\', '', path1)\n",
    "                local_dir2 = re.sub(r'^.*outbound\\\\', '', path2)\n",
    "                print(f'{local_dir1=}')\n",
    "                print(f'{local_dir2=}')\n",
    "                if local_dir1 < local_dir2:\n",
    "                    path1 = next(pf1,None)\n",
    "                else:\n",
    "                    path2 = next(pf2,None)\n",
    "            if path1 == None or path2 == None:\n",
    "                break\n",
    "            d1,f1 = os.path.split(path1)\n",
    "            d2,f2 = os.path.split(path2)\n",
    "            lines1 = count_utf8(path2)\n",
    "            lines2 = count_utf8(path2)\n",
    "\n",
    "                \n",
    "            \n",
    "\n",
    "            if f1 == f2 and lines1 == lines2:\n",
    "                lines_match, sum_dist, max_dist = get_lines_match(path1,path2)\n",
    "\n",
    "                record = {'path1': path1, 'path2': path2, 'file': f1, 'lines': lines1, 'lines_match': lines_match, \n",
    "                          'sum_lv_distance': sum_dist, 'max_lv_distance': max_dist}\n",
    "                data.append(record)\n",
    "            else:\n",
    "                print(f'''{f1=} {f2=} {lines1=} {lines2=}\n",
    "                {path1=}\n",
    "                {path2=}''')\n",
    "\n",
    "        except Exception as e:\n",
    "            print('Error: '+repr(e))\n",
    "            break;\n",
    "    return pd.DataFrame(data)\n",
    "\n",
    "\n",
    "        "
   ]
  },
  {
   "cell_type": "code",
   "execution_count": 11,
   "id": "d785452e-bcac-42fd-9ac3-063cf2144888",
   "metadata": {},
   "outputs": [
    {
     "name": "stdout",
     "output_type": "stream",
     "text": [
      "f1='ZeroReport_20241126_0_MT.dat' f2='NJ_20241126.dat' lines1=10 lines2=10\n",
      "                path1='C:\\\\LOGS\\\\2024_11_NOV\\\\Nov25_CMP1\\\\outbound\\\\report\\\\11262024\\\\MT\\\\ZeroReport_20241126_0_MT.dat'\n",
      "                path2='C:\\\\LOGS\\\\2024_11_NOV\\\\Nov25_CMP2\\\\outbound\\\\report\\\\11262024\\\\NJ\\\\NJ_20241126.dat'\n",
      "local_dir1='report\\\\11262024\\\\MT\\\\ZeroReport_20241126_0_MT.dat'\n",
      "local_dir2='report\\\\11262024\\\\NJ\\\\NJ_20241126.dat'\n"
     ]
    },
    {
     "data": {
      "text/html": [
       "<div>\n",
       "<style scoped>\n",
       "    .dataframe tbody tr th:only-of-type {\n",
       "        vertical-align: middle;\n",
       "    }\n",
       "\n",
       "    .dataframe tbody tr th {\n",
       "        vertical-align: top;\n",
       "    }\n",
       "\n",
       "    .dataframe thead th {\n",
       "        text-align: right;\n",
       "    }\n",
       "</style>\n",
       "<table border=\"1\" class=\"dataframe\">\n",
       "  <thead>\n",
       "    <tr style=\"text-align: right;\">\n",
       "      <th></th>\n",
       "      <th>path1</th>\n",
       "      <th>path2</th>\n",
       "      <th>file</th>\n",
       "      <th>lines</th>\n",
       "      <th>lines_match</th>\n",
       "      <th>sum_lv_distance</th>\n",
       "      <th>max_lv_distance</th>\n",
       "    </tr>\n",
       "  </thead>\n",
       "  <tbody>\n",
       "    <tr>\n",
       "      <th>0</th>\n",
       "      <td>C:\\LOGS\\2024_11_NOV\\Nov25_CMP1\\outbound\\report...</td>\n",
       "      <td>C:\\LOGS\\2024_11_NOV\\Nov25_CMP2\\outbound\\report...</td>\n",
       "      <td>NY_20241125.dat</td>\n",
       "      <td>764</td>\n",
       "      <td>762</td>\n",
       "      <td>14</td>\n",
       "      <td>7</td>\n",
       "    </tr>\n",
       "    <tr>\n",
       "      <th>1</th>\n",
       "      <td>C:\\LOGS\\2024_11_NOV\\Nov25_CMP1\\outbound\\report...</td>\n",
       "      <td>C:\\LOGS\\2024_11_NOV\\Nov25_CMP2\\outbound\\report...</td>\n",
       "      <td>ZeroReport_20241125_1502_NY.dat</td>\n",
       "      <td>11</td>\n",
       "      <td>8</td>\n",
       "      <td>17</td>\n",
       "      <td>7</td>\n",
       "    </tr>\n",
       "    <tr>\n",
       "      <th>2</th>\n",
       "      <td>C:\\LOGS\\2024_11_NOV\\Nov25_CMP1\\outbound\\report...</td>\n",
       "      <td>C:\\LOGS\\2024_11_NOV\\Nov25_CMP2\\outbound\\report...</td>\n",
       "      <td>ZeroReport_20241125_201416_NY.dat</td>\n",
       "      <td>11</td>\n",
       "      <td>8</td>\n",
       "      <td>19</td>\n",
       "      <td>8</td>\n",
       "    </tr>\n",
       "    <tr>\n",
       "      <th>3</th>\n",
       "      <td>C:\\LOGS\\2024_11_NOV\\Nov25_CMP1\\outbound\\report...</td>\n",
       "      <td>C:\\LOGS\\2024_11_NOV\\Nov25_CMP2\\outbound\\report...</td>\n",
       "      <td>ZeroReport_20241125_900_NY.dat</td>\n",
       "      <td>11</td>\n",
       "      <td>8</td>\n",
       "      <td>19</td>\n",
       "      <td>8</td>\n",
       "    </tr>\n",
       "    <tr>\n",
       "      <th>4</th>\n",
       "      <td>C:\\LOGS\\2024_11_NOV\\Nov25_CMP1\\outbound\\report...</td>\n",
       "      <td>C:\\LOGS\\2024_11_NOV\\Nov25_CMP2\\outbound\\report...</td>\n",
       "      <td>ZeroReport_20241125_CSR1_NY.dat</td>\n",
       "      <td>11</td>\n",
       "      <td>8</td>\n",
       "      <td>17</td>\n",
       "      <td>7</td>\n",
       "    </tr>\n",
       "  </tbody>\n",
       "</table>\n",
       "</div>"
      ],
      "text/plain": [
       "                                               path1  \\\n",
       "0  C:\\LOGS\\2024_11_NOV\\Nov25_CMP1\\outbound\\report...   \n",
       "1  C:\\LOGS\\2024_11_NOV\\Nov25_CMP1\\outbound\\report...   \n",
       "2  C:\\LOGS\\2024_11_NOV\\Nov25_CMP1\\outbound\\report...   \n",
       "3  C:\\LOGS\\2024_11_NOV\\Nov25_CMP1\\outbound\\report...   \n",
       "4  C:\\LOGS\\2024_11_NOV\\Nov25_CMP1\\outbound\\report...   \n",
       "\n",
       "                                               path2  \\\n",
       "0  C:\\LOGS\\2024_11_NOV\\Nov25_CMP2\\outbound\\report...   \n",
       "1  C:\\LOGS\\2024_11_NOV\\Nov25_CMP2\\outbound\\report...   \n",
       "2  C:\\LOGS\\2024_11_NOV\\Nov25_CMP2\\outbound\\report...   \n",
       "3  C:\\LOGS\\2024_11_NOV\\Nov25_CMP2\\outbound\\report...   \n",
       "4  C:\\LOGS\\2024_11_NOV\\Nov25_CMP2\\outbound\\report...   \n",
       "\n",
       "                                file  lines  lines_match  sum_lv_distance  \\\n",
       "0                    NY_20241125.dat    764          762               14   \n",
       "1    ZeroReport_20241125_1502_NY.dat     11            8               17   \n",
       "2  ZeroReport_20241125_201416_NY.dat     11            8               19   \n",
       "3     ZeroReport_20241125_900_NY.dat     11            8               19   \n",
       "4    ZeroReport_20241125_CSR1_NY.dat     11            8               17   \n",
       "\n",
       "   max_lv_distance  \n",
       "0                7  \n",
       "1                7  \n",
       "2                8  \n",
       "3                8  \n",
       "4                7  "
      ]
     },
     "execution_count": 11,
     "metadata": {},
     "output_type": "execute_result"
    }
   ],
   "source": [
    "src1 = \"C:/LOGS/2024_11_NOV/Nov25_CMP1\"\n",
    "src2 = \"C:/LOGS/2024_11_NOV/Nov25_CMP2\"\n",
    "df = compare_trees(src1, src2)\n",
    "df.head()"
   ]
  },
  {
   "cell_type": "code",
   "execution_count": 12,
   "id": "5894b226-39d5-4c1a-a7bb-0eff6fde5097",
   "metadata": {},
   "outputs": [
    {
     "data": {
      "text/plain": [
       "1797"
      ]
     },
     "execution_count": 12,
     "metadata": {},
     "output_type": "execute_result"
    }
   ],
   "source": [
    "len(df)"
   ]
  },
  {
   "cell_type": "code",
   "execution_count": 13,
   "id": "1b4cf407-09eb-49d5-956a-a69c139b9fdd",
   "metadata": {},
   "outputs": [
    {
     "data": {
      "text/plain": [
       "<_io.TextIOWrapper name='C:/LOGS/2024_07_JUL/JULY_10_CMP1/outbound/report/07102024/MA/MA_20240710.dat' mode='r' encoding='cp1252'>"
      ]
     },
     "execution_count": 13,
     "metadata": {},
     "output_type": "execute_result"
    }
   ],
   "source": [
    "open(badpath1)"
   ]
  },
  {
   "cell_type": "code",
   "execution_count": 14,
   "id": "834c5725-866f-4770-9511-29855821f253",
   "metadata": {},
   "outputs": [
    {
     "data": {
      "text/plain": [
       "3"
      ]
     },
     "execution_count": 14,
     "metadata": {},
     "output_type": "execute_result"
    }
   ],
   "source": [
    "import Levenshtein as lv\n",
    "\n",
    "str1 = \"kitten\"\n",
    "str2 = \"sitting\"\n",
    "distance = lv.distance(str1, str2)\n",
    "distance"
   ]
  },
  {
   "cell_type": "code",
   "execution_count": 15,
   "id": "38c84006-ece1-415f-b925-73726c3c222c",
   "metadata": {},
   "outputs": [
    {
     "data": {
      "text/plain": [
       "1"
      ]
     },
     "execution_count": 15,
     "metadata": {},
     "output_type": "execute_result"
    }
   ],
   "source": [
    "str1 = \"sat\"\n",
    "str2 = \"set\"\n",
    "distance = lv.distance(str1, str2)\n",
    "distance"
   ]
  },
  {
   "cell_type": "code",
   "execution_count": 16,
   "id": "34fe30e9-7111-4b06-a3e3-a197436ac100",
   "metadata": {},
   "outputs": [
    {
     "data": {
      "text/plain": [
       "40"
      ]
     },
     "execution_count": 16,
     "metadata": {},
     "output_type": "execute_result"
    }
   ],
   "source": [
    " max(df['max_lv_distance'])"
   ]
  },
  {
   "cell_type": "code",
   "execution_count": 17,
   "id": "bbcfc681-39a0-479c-b62c-1dd86184d937",
   "metadata": {},
   "outputs": [
    {
     "data": {
      "text/html": [
       "<div>\n",
       "<style scoped>\n",
       "    .dataframe tbody tr th:only-of-type {\n",
       "        vertical-align: middle;\n",
       "    }\n",
       "\n",
       "    .dataframe tbody tr th {\n",
       "        vertical-align: top;\n",
       "    }\n",
       "\n",
       "    .dataframe thead th {\n",
       "        text-align: right;\n",
       "    }\n",
       "</style>\n",
       "<table border=\"1\" class=\"dataframe\">\n",
       "  <thead>\n",
       "    <tr style=\"text-align: right;\">\n",
       "      <th></th>\n",
       "      <th>path1</th>\n",
       "      <th>path2</th>\n",
       "      <th>file</th>\n",
       "      <th>lines</th>\n",
       "      <th>lines_match</th>\n",
       "      <th>sum_lv_distance</th>\n",
       "      <th>max_lv_distance</th>\n",
       "    </tr>\n",
       "  </thead>\n",
       "  <tbody>\n",
       "    <tr>\n",
       "      <th>1371</th>\n",
       "      <td>C:\\LOGS\\2024_11_NOV\\Nov25_CMP1\\outbound\\report...</td>\n",
       "      <td>C:\\LOGS\\2024_11_NOV\\Nov25_CMP2\\outbound\\report...</td>\n",
       "      <td>ZeroReport_20241126_123_MI.dat</td>\n",
       "      <td>12</td>\n",
       "      <td>9</td>\n",
       "      <td>59</td>\n",
       "      <td>40</td>\n",
       "    </tr>\n",
       "  </tbody>\n",
       "</table>\n",
       "</div>"
      ],
      "text/plain": [
       "                                                  path1  \\\n",
       "1371  C:\\LOGS\\2024_11_NOV\\Nov25_CMP1\\outbound\\report...   \n",
       "\n",
       "                                                  path2  \\\n",
       "1371  C:\\LOGS\\2024_11_NOV\\Nov25_CMP2\\outbound\\report...   \n",
       "\n",
       "                                file  lines  lines_match  sum_lv_distance  \\\n",
       "1371  ZeroReport_20241126_123_MI.dat     12            9               59   \n",
       "\n",
       "      max_lv_distance  \n",
       "1371               40  "
      ]
     },
     "execution_count": 17,
     "metadata": {},
     "output_type": "execute_result"
    }
   ],
   "source": [
    "df[df['max_lv_distance'] > 30]"
   ]
  },
  {
   "cell_type": "code",
   "execution_count": 24,
   "id": "132a5055-889f-47f1-b2de-dfead35bfeaf",
   "metadata": {},
   "outputs": [
    {
     "data": {
      "text/plain": [
       "array(['C:\\\\LOGS\\\\2024_11_NOV\\\\Nov25_CMP1\\\\outbound\\\\report\\\\11262024\\\\MI\\\\ZeroReport_20241126_123_MI.dat'],\n",
       "      dtype=object)"
      ]
     },
     "execution_count": 24,
     "metadata": {},
     "output_type": "execute_result"
    }
   ],
   "source": [
    "df[df['max_lv_distance'] > 30]['path1'].values\n",
    "\n"
   ]
  },
  {
   "cell_type": "code",
   "execution_count": 18,
   "id": "a0a93a6f-8a69-4fe9-8004-90b25dfae022",
   "metadata": {},
   "outputs": [
    {
     "data": {
      "text/html": [
       "<div>\n",
       "<style scoped>\n",
       "    .dataframe tbody tr th:only-of-type {\n",
       "        vertical-align: middle;\n",
       "    }\n",
       "\n",
       "    .dataframe tbody tr th {\n",
       "        vertical-align: top;\n",
       "    }\n",
       "\n",
       "    .dataframe thead th {\n",
       "        text-align: right;\n",
       "    }\n",
       "</style>\n",
       "<table border=\"1\" class=\"dataframe\">\n",
       "  <thead>\n",
       "    <tr style=\"text-align: right;\">\n",
       "      <th></th>\n",
       "      <th>path1</th>\n",
       "      <th>path2</th>\n",
       "      <th>file</th>\n",
       "      <th>lines</th>\n",
       "      <th>lines_match</th>\n",
       "      <th>sum_lv_distance</th>\n",
       "      <th>max_lv_distance</th>\n",
       "    </tr>\n",
       "  </thead>\n",
       "  <tbody>\n",
       "    <tr>\n",
       "      <th>1371</th>\n",
       "      <td>C:\\LOGS\\2024_11_NOV\\Nov25_CMP1\\outbound\\report...</td>\n",
       "      <td>C:\\LOGS\\2024_11_NOV\\Nov25_CMP2\\outbound\\report...</td>\n",
       "      <td>ZeroReport_20241126_123_MI.dat</td>\n",
       "      <td>12</td>\n",
       "      <td>9</td>\n",
       "      <td>59</td>\n",
       "      <td>40</td>\n",
       "    </tr>\n",
       "  </tbody>\n",
       "</table>\n",
       "</div>"
      ],
      "text/plain": [
       "                                                  path1  \\\n",
       "1371  C:\\LOGS\\2024_11_NOV\\Nov25_CMP1\\outbound\\report...   \n",
       "\n",
       "                                                  path2  \\\n",
       "1371  C:\\LOGS\\2024_11_NOV\\Nov25_CMP2\\outbound\\report...   \n",
       "\n",
       "                                file  lines  lines_match  sum_lv_distance  \\\n",
       "1371  ZeroReport_20241126_123_MI.dat     12            9               59   \n",
       "\n",
       "      max_lv_distance  \n",
       "1371               40  "
      ]
     },
     "execution_count": 18,
     "metadata": {},
     "output_type": "execute_result"
    }
   ],
   "source": [
    "df[df['max_lv_distance'] > 30]"
   ]
  },
  {
   "cell_type": "code",
   "execution_count": 19,
   "id": "0f8b13b1-6244-4122-9eee-1e88a573dc21",
   "metadata": {},
   "outputs": [
    {
     "data": {
      "text/plain": [
       "'C:\\\\LOGS\\\\2024_11_NOV\\\\Nov25_CMP1\\\\outbound\\\\report\\\\11262024\\\\MI\\\\ZeroReport_20241126_123_MI.dat'"
      ]
     },
     "execution_count": 19,
     "metadata": {},
     "output_type": "execute_result"
    }
   ],
   "source": [
    "d1 = df[df['max_lv_distance'] > 30]['path1'].values[0]\n",
    "d1"
   ]
  },
  {
   "cell_type": "code",
   "execution_count": 20,
   "id": "4dc9bda1-9f41-44e1-ae5f-0e1fd562b3de",
   "metadata": {},
   "outputs": [
    {
     "data": {
      "text/plain": [
       "3"
      ]
     },
     "execution_count": 20,
     "metadata": {},
     "output_type": "execute_result"
    }
   ],
   "source": [
    "max(abs(df['lines'] - df['lines_match']))"
   ]
  },
  {
   "cell_type": "code",
   "execution_count": null,
   "id": "64908084-75f6-4604-bc74-62ae095e2519",
   "metadata": {},
   "outputs": [],
   "source": []
  }
 ],
 "metadata": {
  "kernelspec": {
   "display_name": "Python 3 (ipykernel)",
   "language": "python",
   "name": "python3"
  },
  "language_info": {
   "codemirror_mode": {
    "name": "ipython",
    "version": 3
   },
   "file_extension": ".py",
   "mimetype": "text/x-python",
   "name": "python",
   "nbconvert_exporter": "python",
   "pygments_lexer": "ipython3",
   "version": "3.10.5"
  }
 },
 "nbformat": 4,
 "nbformat_minor": 5
}
