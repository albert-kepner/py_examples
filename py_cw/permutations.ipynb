{
 "cells": [
  {
   "cell_type": "code",
   "execution_count": 3,
   "id": "22e7a81c-563e-41f5-a60f-9b0d9ad8dd61",
   "metadata": {},
   "outputs": [],
   "source": [
    "from itertools import permutations as perm\n",
    "\n",
    "def permutations(s):\n",
    "    # Code Away!\n",
    "    x = set()\n",
    "    for p in perm(s):\n",
    "        x.add(p)\n",
    "    return [''.join(i) for i in x]"
   ]
  },
  {
   "cell_type": "code",
   "execution_count": 4,
   "id": "b237051c-ded2-46dc-92c5-e78e97d8b2ad",
   "metadata": {},
   "outputs": [
    {
     "data": {
      "text/plain": [
       "['ba', 'ab']"
      ]
     },
     "execution_count": 4,
     "metadata": {},
     "output_type": "execute_result"
    }
   ],
   "source": [
    "permutations('ab')"
   ]
  },
  {
   "cell_type": "code",
   "execution_count": null,
   "id": "7ab3d6e6-446a-4db4-b044-43908ee8b1c8",
   "metadata": {},
   "outputs": [],
   "source": []
  }
 ],
 "metadata": {
  "kernelspec": {
   "display_name": "Python 3 (ipykernel)",
   "language": "python",
   "name": "python3"
  },
  "language_info": {
   "codemirror_mode": {
    "name": "ipython",
    "version": 3
   },
   "file_extension": ".py",
   "mimetype": "text/x-python",
   "name": "python",
   "nbconvert_exporter": "python",
   "pygments_lexer": "ipython3",
   "version": "3.10.5"
  }
 },
 "nbformat": 4,
 "nbformat_minor": 5
}
