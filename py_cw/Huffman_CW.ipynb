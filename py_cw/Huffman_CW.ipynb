{
 "cells": [
  {
   "cell_type": "code",
   "execution_count": 5,
   "id": "d963d34e-e7b0-456e-a5a8-b297c0c6941d",
   "metadata": {},
   "outputs": [],
   "source": [
    "str = 'aaaabcc'"
   ]
  },
  {
   "cell_type": "code",
   "execution_count": 10,
   "id": "6e6a77eb-9dd7-4081-9ab1-c8176c8bca20",
   "metadata": {},
   "outputs": [],
   "source": [
    "from collections import namedtuple\n",
    "Leaf = namedtuple('Leaf', ['char','freq','type'])\n",
    "Node = namedtuple('Node', ['left', 'right', 'freq','type', 'char'])\n",
    "\n",
    "\n",
    "# takes: str; returns: [ (str, int) ] (Strings in return value are single characters)\n",
    "def frequencies(s):\n",
    "    dict = {}\n",
    "    for c in s:\n",
    "        if not c in dict.keys():\n",
    "            dict[c] = 1\n",
    "        else:\n",
    "            i = dict[c]\n",
    "            dict[c] = i + 1;\n",
    "    list1 = [item for item in dict.items()]\n",
    "    return list1\n",
    "\n",
    "\n",
    "def makeTree(freqs):\n",
    "    def makeLeaf(c, n):\n",
    "        return Leaf(char=c, freq=n, type='leaf')\n",
    "    def makeNode(l, r):\n",
    "        return Node(left=l,right=r,freq=l.freq+r.freq, type='node', char=None)\n",
    "    def insertByFreq(trees, node):\n",
    "        index = findIndexForNode(trees, node)\n",
    "        trees.insert(index, node)\n",
    "        return trees\n",
    "    def findIndexForNode(trees, node):\n",
    "        for i in range(len(trees)):\n",
    "            if trees[i].freq > node.freq:\n",
    "                return i\n",
    "        return len(trees)\n",
    "\n",
    "    trees = [makeLeaf(c,n) for c,n in freqs]\n",
    "    trees.sort(key=lambda leaf: leaf.freq)\n",
    "\n",
    "    while(len(trees) > 1):\n",
    "        a = trees[0]\n",
    "        b = trees[1]\n",
    "        rest = trees[2:]\n",
    "        node = makeNode(a,b)\n",
    "        if len(rest) == 0:\n",
    "            return node\n",
    "        trees = insertByFreq(rest, node)\n",
    "    return None\n",
    "# takes: [ (str, int) ], str; returns: String (with \"0\" and \"1\")\n",
    "def encode(freqs, s):\n",
    "    if len(freqs) <= 1:\n",
    "        return None\n",
    "    if not s:\n",
    "        return ''\n",
    "    def encodeChar(tree, c, accum):\n",
    "        if tree.type == 'leaf':\n",
    "            return ''\n",
    "        if tree.left.char == c:\n",
    "            return accum + '0'\n",
    "        if tree.right.char == c:\n",
    "            return accum + '1'\n",
    "        return encodeChar(tree.left, c, accum+'0') + encodeChar(tree.right, c, accum+'1')\n",
    "    tree = makeTree(freqs)\n",
    "    return ''.join([ encodeChar(tree, c, '') for c in s ])  \n",
    "# takes [ [str, int] ], str (with \"0\" and \"1\"); returns: str\n",
    "def decode(freqs,bits):\n",
    "    if len(freqs) <= 1:\n",
    "        return None\n",
    "    if not bits:\n",
    "        return ''\n",
    "    tree = makeTree(freqs)\n",
    "    result = ''\n",
    "    node = tree\n",
    "    for bit in bits:\n",
    "        if bit == '0':\n",
    "            node = node.left\n",
    "        else:\n",
    "            node = node.right\n",
    "        if node.char:\n",
    "            result = result + node.char\n",
    "            node = tree\n",
    "    return result"
   ]
  },
  {
   "cell_type": "code",
   "execution_count": 11,
   "id": "66d49ca9-72fa-4782-904b-6175d2fbd1fe",
   "metadata": {},
   "outputs": [
    {
     "name": "stdout",
     "output_type": "stream",
     "text": [
      "aaaabcc\n",
      "[('a', 4), ('b', 1), ('c', 2)]\n",
      "[Leaf(char='a', freq=4, type='leaf'), Leaf(char='b', freq=1, type='leaf'), Leaf(char='c', freq=2, type='leaf')]\n",
      "[Leaf(char='b', freq=1, type='leaf'), Leaf(char='c', freq=2, type='leaf'), Leaf(char='a', freq=4, type='leaf')]\n",
      "Node(left=Node(left=Leaf(char='b', freq=1, type='leaf'), right=Leaf(char='c', freq=2, type='leaf'), freq=3, type='node', char=None), right=Leaf(char='a', freq=4, type='leaf'), freq=7, type='node', char=None)\n",
      "[Leaf(char='a', freq=4, type='leaf'), Leaf(char='b', freq=1, type='leaf'), Leaf(char='c', freq=2, type='leaf')]\n",
      "[Leaf(char='b', freq=1, type='leaf'), Leaf(char='c', freq=2, type='leaf'), Leaf(char='a', freq=4, type='leaf')]\n",
      "1111000101\n",
      "[Leaf(char='a', freq=4, type='leaf'), Leaf(char='b', freq=1, type='leaf'), Leaf(char='c', freq=2, type='leaf')]\n",
      "[Leaf(char='b', freq=1, type='leaf'), Leaf(char='c', freq=2, type='leaf'), Leaf(char='a', freq=4, type='leaf')]\n",
      "aaaabcc\n"
     ]
    }
   ],
   "source": [
    "print(str)\n",
    "freqs = frequencies(str)\n",
    "print(freqs)\n",
    "tree1 = makeTree(freqs)\n",
    "print(tree1)\n",
    "en1 = encode(freqs, str)\n",
    "print(en1)\n",
    "dc1 = decode(freqs, en1)\n",
    "print(dc1)"
   ]
  },
  {
   "cell_type": "code",
   "execution_count": null,
   "id": "60a4073a-94d5-439c-be02-03651e68ca5d",
   "metadata": {},
   "outputs": [],
   "source": []
  },
  {
   "cell_type": "code",
   "execution_count": null,
   "id": "3a9d9633-c9ef-4542-9601-1297541e3a81",
   "metadata": {},
   "outputs": [],
   "source": []
  }
 ],
 "metadata": {
  "kernelspec": {
   "display_name": "Python 3 (ipykernel)",
   "language": "python",
   "name": "python3"
  },
  "language_info": {
   "codemirror_mode": {
    "name": "ipython",
    "version": 3
   },
   "file_extension": ".py",
   "mimetype": "text/x-python",
   "name": "python",
   "nbconvert_exporter": "python",
   "pygments_lexer": "ipython3",
   "version": "3.10.5"
  }
 },
 "nbformat": 4,
 "nbformat_minor": 5
}
