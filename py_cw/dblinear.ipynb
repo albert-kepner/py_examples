{
 "cells": [
  {
   "cell_type": "code",
   "execution_count": 1,
   "id": "0e377891-8932-4b18-b2ce-098a13bdef4a",
   "metadata": {},
   "outputs": [],
   "source": [
    "import heapq\n",
    "\n",
    "class PriorityQueue:\n",
    "    def __init__(self):\n",
    "        self.heap = []\n",
    "\n",
    "    def queue(self, priority, item):\n",
    "        heapq.heappush(self.heap, (priority, item))\n",
    "\n",
    "    def dequeue(self):\n",
    "        return heapq.heappop(self.heap)\n",
    "\n",
    "    def is_empty(self):\n",
    "        return len(self.heap) == 0\n",
    "\n"
   ]
  },
  {
   "cell_type": "code",
   "execution_count": 2,
   "id": "6cc25e04-8581-4a85-a074-e26e81302a8c",
   "metadata": {},
   "outputs": [
    {
     "name": "stdout",
     "output_type": "stream",
     "text": [
      "(1, 1)\n",
      "(3, 3)\n",
      "(5, 5)\n"
     ]
    }
   ],
   "source": [
    "queue = PriorityQueue();\n",
    "\n",
    "queue.queue(5,5)\n",
    "queue.queue(1,1)\n",
    "queue.queue(3,3)\n",
    "\n",
    "print(queue.dequeue())\n",
    "print(queue.dequeue())\n",
    "print(queue.dequeue())"
   ]
  },
  {
   "cell_type": "code",
   "execution_count": 11,
   "id": "5f3a07d4-0049-4ab1-8edf-cdf51c77ad94",
   "metadata": {},
   "outputs": [],
   "source": [
    "import heapq\n",
    "\n",
    "class PriorityQueue:\n",
    "    def __init__(self):\n",
    "        self.heap = []\n",
    "\n",
    "    def queue(self, priority, item):\n",
    "        heapq.heappush(self.heap, (priority, item))\n",
    "\n",
    "    def dequeue(self):\n",
    "        return heapq.heappop(self.heap)\n",
    "\n",
    "    def is_empty(self):\n",
    "        return len(self.heap) == 0\n",
    "\n",
    "def dbl_linear(n):\n",
    "    queue = PriorityQueue()\n",
    "    set1 = set()\n",
    "    set1.add(1)\n",
    "    queue.queue(1,1)\n",
    "    if n == 0:\n",
    "        return 1\n",
    "    counter = 0\n",
    "    lastX = 1\n",
    "    while counter <= n:\n",
    "        x, _ = queue.dequeue()\n",
    "        lastX = x\n",
    "        counter = counter + 1\n",
    "        q2 = 2 * x + 1\n",
    "        q3 = 3 * x + 1\n",
    "        if q2 not in set1:\n",
    "            queue.queue(q2,q2)\n",
    "            set1.add(q2)\n",
    "        if q3 not in set1:\n",
    "            queue.queue(q3,q3)\n",
    "            set1.add(q3)\n",
    "    return lastX"
   ]
  },
  {
   "cell_type": "code",
   "execution_count": 12,
   "id": "17a51f65-40bf-4900-90e1-6d2194c9f126",
   "metadata": {},
   "outputs": [
    {
     "data": {
      "text/plain": [
       "22"
      ]
     },
     "execution_count": 12,
     "metadata": {},
     "output_type": "execute_result"
    }
   ],
   "source": [
    "dbl_linear(10)"
   ]
  },
  {
   "cell_type": "code",
   "execution_count": null,
   "id": "3b1f0df6-e38b-4fd8-948e-e6d06b96e9fc",
   "metadata": {},
   "outputs": [],
   "source": []
  }
 ],
 "metadata": {
  "kernelspec": {
   "display_name": "Python 3 (ipykernel)",
   "language": "python",
   "name": "python3"
  },
  "language_info": {
   "codemirror_mode": {
    "name": "ipython",
    "version": 3
   },
   "file_extension": ".py",
   "mimetype": "text/x-python",
   "name": "python",
   "nbconvert_exporter": "python",
   "pygments_lexer": "ipython3",
   "version": "3.10.5"
  }
 },
 "nbformat": 4,
 "nbformat_minor": 5
}
