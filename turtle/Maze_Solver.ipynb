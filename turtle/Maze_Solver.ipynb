{
 "cells": [
  {
   "cell_type": "code",
   "execution_count": 3,
   "id": "b5b228de-fab0-4d24-8cd3-49985873ba03",
   "metadata": {},
   "outputs": [],
   "source": [
    "import numpy as np\n",
    "import os\n",
    "\n",
    "maze = np.loadtxt('data/output.csv',delimiter=\",\")"
   ]
  },
  {
   "cell_type": "code",
   "execution_count": 4,
   "id": "13b19c70-5e7a-46ec-a66d-dc8abd557196",
   "metadata": {},
   "outputs": [
    {
     "data": {
      "text/plain": [
       "array([[ 0.,  0.,  0.,  0.,  0.,  0.,  0.,  0.,  0.,  0.,  0.,  0.,  0.],\n",
       "       [ 0., -1., -1., -1., -1., -1., -1., -1.,  0., -1.,  0., -1.,  0.],\n",
       "       [ 0., -1.,  0.,  0.,  0., -1.,  0.,  0.,  0., -1.,  0., -1.,  0.],\n",
       "       [-1., -1.,  0., -1.,  0., -1.,  0., -1., -1., -1.,  0., -1.,  0.],\n",
       "       [ 0., -1.,  0., -1.,  0., -1.,  0.,  0.,  0., -1.,  0., -1.,  0.],\n",
       "       [ 0., -1.,  0., -1.,  0., -1.,  0., -1.,  0., -1.,  0., -1., -1.],\n",
       "       [ 0.,  0.,  0., -1.,  0.,  0.,  0., -1.,  0., -1.,  0.,  0.,  0.],\n",
       "       [ 0., -1., -1., -1., -1., -1., -1., -1., -1., -1., -1., -1.,  0.],\n",
       "       [ 0.,  0.,  0., -1.,  0.,  0.,  0., -1.,  0.,  0.,  0.,  0.,  0.],\n",
       "       [ 0., -1., -1., -1.,  0., -1.,  0., -1.,  0., -1., -1., -1., -1.],\n",
       "       [ 0.,  0.,  0., -1.,  0., -1.,  0., -1.,  0.,  0.,  0., -1.,  0.],\n",
       "       [-1., -1.,  0., -1.,  0., -1., -1., -1., -1., -1.,  0., -1.,  0.],\n",
       "       [ 0.,  0.,  0., -1.,  0.,  0.,  0.,  0.,  0.,  0.,  0.,  0.,  0.]])"
      ]
     },
     "execution_count": 4,
     "metadata": {},
     "output_type": "execute_result"
    }
   ],
   "source": [
    "maze"
   ]
  },
  {
   "cell_type": "code",
   "execution_count": 9,
   "id": "3102a4cf-ccfd-4595-a4fd-200ec2052f82",
   "metadata": {},
   "outputs": [
    {
     "data": {
      "text/plain": [
       "[array([1, 0]), array([0, 1]), array([-1,  0]), array([ 0, -1])]"
      ]
     },
     "execution_count": 9,
     "metadata": {},
     "output_type": "execute_result"
    }
   ],
   "source": [
    "\n",
    "def four_directions():\n",
    "    dirs = list(map(lambda x: np.array(x), [(1,0), (0,1), (-1,0), (0,-1)]))\n",
    "    return dirs\n",
    "\n",
    "four_directions()"
   ]
  },
  {
   "cell_type": "code",
   "execution_count": 10,
   "id": "b03268c1-3653-4cf2-bae9-1351d88bc5df",
   "metadata": {},
   "outputs": [
    {
     "data": {
      "text/plain": [
       "(13, 13)"
      ]
     },
     "execution_count": 10,
     "metadata": {},
     "output_type": "execute_result"
    }
   ],
   "source": [
    "maze.shape"
   ]
  },
  {
   "cell_type": "code",
   "execution_count": 11,
   "id": "c4598e4f-74f3-47cb-a6dc-ab62cde86fba",
   "metadata": {},
   "outputs": [
    {
     "data": {
      "text/plain": [
       "13"
      ]
     },
     "execution_count": 11,
     "metadata": {},
     "output_type": "execute_result"
    }
   ],
   "source": [
    "maze.shape[0]\n"
   ]
  },
  {
   "cell_type": "code",
   "execution_count": 12,
   "id": "31d57e4f-e5bf-48bd-b0ab-d7b3d071a706",
   "metadata": {},
   "outputs": [
    {
     "data": {
      "text/plain": [
       "array([1, 0])"
      ]
     },
     "execution_count": 12,
     "metadata": {},
     "output_type": "execute_result"
    }
   ],
   "source": [
    "pos = np.array((1,0))\n",
    "pos\n",
    "\n"
   ]
  },
  {
   "cell_type": "code",
   "execution_count": 13,
   "id": "c9bd0801-db1b-4b32-ad3e-07bf7456e14b",
   "metadata": {},
   "outputs": [
    {
     "name": "stdout",
     "output_type": "stream",
     "text": [
      "1\n",
      "0\n"
     ]
    }
   ],
   "source": [
    "r, c = tuple(pos)\n",
    "print(r)\n",
    "print(c)"
   ]
  },
  {
   "cell_type": "code",
   "execution_count": null,
   "id": "1c78c4b9-da2c-4ea3-9495-2932cf3cad88",
   "metadata": {},
   "outputs": [],
   "source": []
  }
 ],
 "metadata": {
  "kernelspec": {
   "display_name": "Python 3 (ipykernel)",
   "language": "python",
   "name": "python3"
  },
  "language_info": {
   "codemirror_mode": {
    "name": "ipython",
    "version": 3
   },
   "file_extension": ".py",
   "mimetype": "text/x-python",
   "name": "python",
   "nbconvert_exporter": "python",
   "pygments_lexer": "ipython3",
   "version": "3.10.5"
  }
 },
 "nbformat": 4,
 "nbformat_minor": 5
}
