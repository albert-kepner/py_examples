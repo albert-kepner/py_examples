{
 "cells": [
  {
   "cell_type": "markdown",
   "id": "f0fa46aa-d5c3-4ea7-aecf-990cfb51dbaa",
   "metadata": {},
   "source": [
    "## Data structures:\n",
    "\n",
    "List [1,2,3]   ['ab', 'ac','word']\n",
    "\n",
    "Tuple (1,2,3)   ('ab', 'ac', 'word')\n",
    "\n",
    "Dictionary {'key1': 'value1', 'key2: 'value2'}\n",
    "\n",
    "Set {'a', 'b', 'c'} \n",
    "{1,2,3]"
   ]
  },
  {
   "cell_type": "code",
   "execution_count": null,
   "id": "b03d54cd-e0a2-4d63-879b-c042ceb66356",
   "metadata": {},
   "outputs": [],
   "source": [
    "## https://www.freecodecamp.org/news/python-set-operations-explained-with-examples/\n",
    "\n"
   ]
  },
  {
   "cell_type": "code",
   "execution_count": 11,
   "id": "7a4664bf-f37f-4a6c-8e59-40cb9a378558",
   "metadata": {},
   "outputs": [],
   "source": [
    "import wat"
   ]
  },
  {
   "cell_type": "code",
   "execution_count": 7,
   "id": "29fac669-c14d-4216-b506-c35193a85f54",
   "metadata": {},
   "outputs": [
    {
     "data": {
      "text/plain": [
       "[1, 2, 3]"
      ]
     },
     "execution_count": 7,
     "metadata": {},
     "output_type": "execute_result"
    }
   ],
   "source": [
    "stack = [1,2,3,4]\n",
    "stack[0:-1]"
   ]
  },
  {
   "cell_type": "code",
   "execution_count": 8,
   "id": "a3062bf5-ba2f-4170-8c97-5a8794f9215c",
   "metadata": {},
   "outputs": [
    {
     "data": {
      "text/plain": [
       "4"
      ]
     },
     "execution_count": 8,
     "metadata": {},
     "output_type": "execute_result"
    }
   ],
   "source": [
    "stack[-1]"
   ]
  },
  {
   "cell_type": "code",
   "execution_count": 9,
   "id": "82af8acb-910a-4c40-b49e-da98788052f9",
   "metadata": {},
   "outputs": [
    {
     "data": {
      "text/plain": [
       "4"
      ]
     },
     "execution_count": 9,
     "metadata": {},
     "output_type": "execute_result"
    }
   ],
   "source": [
    "stack.pop()"
   ]
  },
  {
   "cell_type": "code",
   "execution_count": 12,
   "id": "068e6326-b2ee-4b37-b0c4-3a9171f99674",
   "metadata": {},
   "outputs": [
    {
     "name": "stdout",
     "output_type": "stream",
     "text": [
      "value: [\n",
      "    1,\n",
      "    2,\n",
      "    3,\n",
      "]\n",
      "type: list\n",
      "len: 3\n",
      "\n",
      "Public attributes:\n",
      "  def append(object, /) # Append object to the end of the list.\n",
      "  def clear() # Remove all items from list.\n",
      "  def copy() # Return a shallow copy of the list.\n",
      "  def count(value, /) # Return number of occurrences of value.\n",
      "  def extend(iterable, /) # Extend list by appending elements from the iterable.\n",
      "  def index(value, start=0, stop=9223372036854775807, /) # Return first index of value.…\n",
      "  def insert(index, object, /) # Insert object before index.\n",
      "  def pop(index=-1, /) # Remove and return item at index (default last).…\n",
      "  def remove(value, /) # Remove first occurrence of value.…\n",
      "  def reverse() # Reverse *IN PLACE*.\n",
      "  def sort(*, key=None, reverse=False) # Sort the list in ascending order and return None.…\n"
     ]
    }
   ],
   "source": [
    "wat / stack"
   ]
  },
  {
   "cell_type": "code",
   "execution_count": 13,
   "id": "ea5e7301-756d-4ea4-88c7-2b5ee32c463e",
   "metadata": {},
   "outputs": [
    {
     "data": {
      "text/plain": [
       "\u001b[1;31mType:\u001b[0m        list\n",
       "\u001b[1;31mString form:\u001b[0m [1, 2, 3]\n",
       "\u001b[1;31mLength:\u001b[0m      3\n",
       "\u001b[1;31mDocstring:\u001b[0m  \n",
       "Built-in mutable sequence.\n",
       "\n",
       "If no argument is given, the constructor creates a new empty list.\n",
       "The argument must be an iterable if specified."
      ]
     },
     "metadata": {},
     "output_type": "display_data"
    }
   ],
   "source": [
    "?stack"
   ]
  },
  {
   "cell_type": "code",
   "execution_count": 1,
   "id": "505dc10d-3456-4453-a48e-77dc0c24089f",
   "metadata": {},
   "outputs": [
    {
     "data": {
      "text/plain": [
       "2.6666666666666665"
      ]
     },
     "execution_count": 1,
     "metadata": {},
     "output_type": "execute_result"
    }
   ],
   "source": [
    "import numpy as np\n",
    "\n",
    "my_list = [2,3,3]\n",
    "avg = np.mean(my_list)\n",
    "avg"
   ]
  },
  {
   "cell_type": "code",
   "execution_count": 5,
   "id": "07d960d7-ffd4-4bd1-9196-44148e57628f",
   "metadata": {},
   "outputs": [
    {
     "data": {
      "text/plain": [
       "81.66666666666667"
      ]
     },
     "execution_count": 5,
     "metadata": {},
     "output_type": "execute_result"
    }
   ],
   "source": [
    "students = [('John', 95), ('Susan', 85), ('Bill', 65)]\n",
    "\n",
    "grades = list(map(lambda x : x[1], students))\n",
    "\n",
    "np.mean(grades)"
   ]
  },
  {
   "cell_type": "code",
   "execution_count": null,
   "id": "65209da5-32bd-42bb-8059-b681cddc26a9",
   "metadata": {},
   "outputs": [],
   "source": []
  }
 ],
 "metadata": {
  "kernelspec": {
   "display_name": "Python 3 (ipykernel)",
   "language": "python",
   "name": "python3"
  },
  "language_info": {
   "codemirror_mode": {
    "name": "ipython",
    "version": 3
   },
   "file_extension": ".py",
   "mimetype": "text/x-python",
   "name": "python",
   "nbconvert_exporter": "python",
   "pygments_lexer": "ipython3",
   "version": "3.10.5"
  }
 },
 "nbformat": 4,
 "nbformat_minor": 5
}
