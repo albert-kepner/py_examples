{
 "cells": [
  {
   "cell_type": "code",
   "execution_count": 1,
   "id": "33ef2b7d-61f2-44a8-b538-56b5ee10b6e9",
   "metadata": {},
   "outputs": [
    {
     "data": {
      "text/plain": [
       "'C:\\\\_A\\\\py_examples\\\\turtle'"
      ]
     },
     "execution_count": 1,
     "metadata": {},
     "output_type": "execute_result"
    }
   ],
   "source": [
    "import os\n",
    "import numpy as np\n",
    "os.getcwd()"
   ]
  },
  {
   "cell_type": "code",
   "execution_count": 2,
   "id": "edb4c3ce-d432-4d56-b189-45a783fc0481",
   "metadata": {},
   "outputs": [
    {
     "name": "stdout",
     "output_type": "stream",
     "text": [
      "[[0. 0. 0. 0. 0. 0. 0. 0. 0. 0.]\n",
      " [0. 0. 0. 0. 0. 0. 0. 0. 0. 0.]\n",
      " [0. 0. 0. 0. 0. 0. 0. 0. 0. 0.]\n",
      " [0. 0. 0. 0. 0. 0. 0. 0. 0. 0.]\n",
      " [0. 0. 0. 0. 0. 0. 0. 0. 0. 0.]\n",
      " [0. 0. 0. 0. 0. 0. 0. 0. 0. 0.]\n",
      " [0. 0. 0. 0. 0. 0. 0. 0. 0. 0.]\n",
      " [0. 0. 0. 0. 0. 0. 0. 0. 0. 0.]\n",
      " [0. 0. 0. 0. 0. 0. 0. 0. 0. 0.]\n",
      " [0. 0. 0. 0. 0. 0. 0. 0. 0. 0.]]\n"
     ]
    }
   ],
   "source": [
    "def maze_template1(size=10):\n",
    "    len = size\n",
    "    arr = np.zeros((len,len))\n",
    "    return arr\n",
    "\n",
    "print (mt := maze_template1())"
   ]
  },
  {
   "cell_type": "code",
   "execution_count": 83,
   "id": "f214fd8a-c547-4154-a4cf-c48784e109b8",
   "metadata": {},
   "outputs": [],
   "source": [
    "import numpy as np\n",
    "from random import randint\n",
    "from enum import Enum\n",
    "import random\n",
    "\n",
    "class Direction(Enum):\n",
    "    UP = 1\n",
    "    DOWN = 2\n",
    "    LEFT = 3\n",
    "    RIGHT = 4\n",
    "    \n",
    "class Maze:\n",
    "    def __init__(self, size=10, start=(0,0), goal=None, forward_probability=0.4,seed=42):\n",
    "        self._found_cells = np.zeros((size,size))\n",
    "        self._explored_cells = np.zeros((size,size))\n",
    "        self._grid = -1 * np.ones( (2*size-1, 2*size-1))\n",
    "        self._size=size\n",
    "        self._start=start\n",
    "        self._forward_probability=forward_probability\n",
    "        self._seed=seed\n",
    "        self._pathes = []\n",
    "        self._current_path = [self._start]\n",
    "        self._goal = goal\n",
    "        random.seed(self._seed)\n",
    "        if self._goal is None:\n",
    "            self._goal = (size - 1, size - 1)\n",
    "        f = self._forward_probability\n",
    "        b = 1 - self._forward_probability\n",
    "        self._move_weights = {\n",
    "            Direction.UP: b,\n",
    "            Direction.LEFT: b,\n",
    "            Direction.DOWN: f,\n",
    "            Direction.RIGHT: f}\n",
    "        self._move_delta = {\n",
    "            Direction.UP: (-1,0),\n",
    "            Direction.DOWN: (1,0),\n",
    "            Direction.LEFT: (0,-1),\n",
    "            Direction.RIGHT: (0,1) }\n",
    "\n",
    "    def _move(self):\n",
    "        pass\n",
    "\n",
    "    def _position(self):\n",
    "        return self._current_path[-1]\n",
    "\n",
    "    def _move_step(self, position, delta):\n",
    "        arr = np.array(position) + np.array(delta)\n",
    "        return (arr[0], arr[1])\n",
    "\n",
    "    def _is_valid(self,position):\n",
    "        r,c = position\n",
    "        if 0 <= r and r < self._size and 0 <= c and c < self._size:\n",
    "            return True\n",
    "        else:\n",
    "            return False\n",
    "    def _is_available(self,position):\n",
    "        r,c = position\n",
    "        return self._found_cells[r,c] == 0\n",
    "\n",
    "    def _allow_moves(self):\n",
    "        moves = []\n",
    "        pos = self._position()\n",
    "        for dir in Direction:\n",
    "            weight = self._move_weights[dir]\n",
    "            md = self._move_delta[dir]\n",
    "            new_pos = self._move_step(pos,md)\n",
    "            if self._is_valid(new_pos) and self._is_available(new_pos):\n",
    "                moves.append((weight, new_pos))\n",
    "        return moves\n",
    "\n",
    "    def _weighted_choice(self, moves):\n",
    "        weights = list(map(lambda x : x[0], moves))\n",
    "        total = sum(weights)\n",
    "        accum = 0.0\n",
    "        x = random.random()\n",
    "        for w, m in moves:\n",
    "            accum = accum + w/total\n",
    "            if accum >= x:\n",
    "                return m \n",
    "        print(f'WARNING: _weighted_choice returns None for moves = {moves}')\n",
    "        return None\n",
    "\n",
    "    def _next_move(self):\n",
    "        allowed = self._allow_moves()\n",
    "        if not allowed:\n",
    "            return None\n",
    "        new_pos = self._weighted_choice(allowed)\n",
    "        print(f'Next Move: {new_pos}')\n",
    "        return new_pos\n",
    "\n",
    "    def _choose_new_start(self):\n",
    "        for i in range(10 * self._size * self._size):\n",
    "            path_index = randint(0, len(self._pathes) - 1)\n",
    "            path = self._pathes[path_index]\n",
    "            step_index = randint(0, len(path) - 1)\n",
    "            new_start = path[step_index]\n",
    "            r,c = new_start\n",
    "            if self._explored_cells[r,c] == 0:\n",
    "                self._explored_cells[r,c] = 1\n",
    "                return new_start\n",
    "\n",
    "        return None\n",
    "            \n",
    "\n",
    "    def search(self):\n",
    "        while True: ## Outer loop thru possible branches of search tree\n",
    "\n",
    "            while True: ## Inner loop thru moves from a given start position\n",
    "\n",
    "                new_pos = self._next_move()\n",
    "                if new_pos is None:\n",
    "                    break\n",
    "\n",
    "                self._current_path.append(new_pos)\n",
    "                r,c = new_pos\n",
    "                self._found_cells[r,c] = 1\n",
    "\n",
    "            print(f'Current path ended at {self._position()}')\n",
    "\n",
    "            self._pathes.append(self._current_path)\n",
    "            self._current_path = []\n",
    "            new_pos = self._choose_new_start()\n",
    "            if new_pos is None:\n",
    "                break\n",
    "            self._current_path.append(new_pos)\n",
    "            print(f'Starting new path at {self._position()}')\n",
    "\n",
    "    def _mark_grid(self, pair):\n",
    "        from1 = np.array(pair[0])\n",
    "        to = np.array(pair[1])\n",
    "        delta = to - from1\n",
    "        from2 = 2 * from1\n",
    "        from2p1 = from2 + delta\n",
    "        from2p2 = from2p1 + delta\n",
    "        marks = list ( (from2, from2p1, from2p2) )\n",
    "        for mark in marks:\n",
    "            self._grid[mark[0],mark[1]] = 0\n",
    "        \n",
    "\n",
    "    def make_grid(self):\n",
    "        for path in self._pathes:\n",
    "            for start in range(len(path) - 1):\n",
    "                pair = path[start : start+2]\n",
    "                self._mark_grid(pair)\n",
    "                \n",
    "                       \n",
    "                \n",
    "            \n",
    "        \n",
    "        "
   ]
  },
  {
   "cell_type": "code",
   "execution_count": 84,
   "id": "14493b87-db8c-4f14-904d-505ace9e5d9f",
   "metadata": {},
   "outputs": [
    {
     "data": {
      "text/plain": [
       "(0, 1)"
      ]
     },
     "execution_count": 84,
     "metadata": {},
     "output_type": "execute_result"
    }
   ],
   "source": [
    "m = Maze(size=7)\n",
    "\n",
    "moves = m._allow_moves()\n",
    "\n",
    "m._weighted_choice(moves)"
   ]
  },
  {
   "cell_type": "code",
   "execution_count": 85,
   "id": "0214384d-d40d-4b25-8ec9-4a89440bfb8c",
   "metadata": {},
   "outputs": [
    {
     "name": "stdout",
     "output_type": "stream",
     "text": [
      "Next Move: (1, 0)\n",
      "Next Move: (0, 0)\n",
      "Next Move: (0, 1)\n",
      "Next Move: (0, 2)\n",
      "Next Move: (0, 3)\n",
      "Next Move: (0, 4)\n",
      "Next Move: (1, 4)\n",
      "Next Move: (1, 3)\n",
      "Next Move: (2, 3)\n",
      "Next Move: (3, 3)\n",
      "Next Move: (3, 2)\n",
      "Next Move: (2, 2)\n",
      "Next Move: (1, 2)\n",
      "Next Move: (1, 1)\n",
      "Next Move: (2, 1)\n",
      "Next Move: (3, 1)\n",
      "Next Move: (3, 0)\n",
      "Next Move: (4, 0)\n",
      "Next Move: (5, 0)\n",
      "Next Move: (5, 1)\n",
      "Next Move: (6, 1)\n",
      "Next Move: (6, 0)\n",
      "Current path ended at (6, 0)\n",
      "Starting new path at (0, 4)\n",
      "Next Move: (0, 5)\n",
      "Next Move: (1, 5)\n",
      "Next Move: (2, 5)\n",
      "Next Move: (3, 5)\n",
      "Next Move: (3, 6)\n",
      "Next Move: (4, 6)\n",
      "Next Move: (4, 5)\n",
      "Next Move: (4, 4)\n",
      "Next Move: (5, 4)\n",
      "Next Move: (5, 5)\n",
      "Next Move: (6, 5)\n",
      "Next Move: (6, 4)\n",
      "Next Move: (6, 3)\n",
      "Next Move: (6, 2)\n",
      "Next Move: (5, 2)\n",
      "Next Move: (4, 2)\n",
      "Next Move: (4, 3)\n",
      "Next Move: (5, 3)\n",
      "Current path ended at (5, 3)\n",
      "Starting new path at (2, 3)\n",
      "Next Move: (2, 4)\n",
      "Next Move: (3, 4)\n",
      "Current path ended at (3, 4)\n",
      "Starting new path at (2, 2)\n",
      "Current path ended at (2, 2)\n",
      "Starting new path at (2, 4)\n",
      "Current path ended at (2, 4)\n",
      "Starting new path at (4, 4)\n",
      "Current path ended at (4, 4)\n",
      "Starting new path at (6, 2)\n",
      "Current path ended at (6, 2)\n",
      "Starting new path at (0, 5)\n",
      "Next Move: (0, 6)\n",
      "Next Move: (1, 6)\n",
      "Next Move: (2, 6)\n",
      "Current path ended at (2, 6)\n",
      "Starting new path at (2, 6)\n",
      "Current path ended at (2, 6)\n",
      "Starting new path at (0, 6)\n",
      "Current path ended at (0, 6)\n",
      "Starting new path at (3, 4)\n",
      "Current path ended at (3, 4)\n",
      "Starting new path at (0, 1)\n",
      "Current path ended at (0, 1)\n",
      "Starting new path at (5, 4)\n",
      "Current path ended at (5, 4)\n",
      "Starting new path at (6, 5)\n",
      "Next Move: (6, 6)\n",
      "Next Move: (5, 6)\n",
      "Current path ended at (5, 6)\n",
      "Starting new path at (1, 4)\n",
      "Current path ended at (1, 4)\n",
      "Starting new path at (5, 2)\n",
      "Current path ended at (5, 2)\n",
      "Starting new path at (4, 0)\n",
      "Next Move: (4, 1)\n",
      "Current path ended at (4, 1)\n",
      "Starting new path at (4, 5)\n",
      "Current path ended at (4, 5)\n",
      "Starting new path at (6, 6)\n",
      "Current path ended at (6, 6)\n",
      "Starting new path at (2, 5)\n",
      "Current path ended at (2, 5)\n",
      "Starting new path at (6, 4)\n",
      "Current path ended at (6, 4)\n",
      "Starting new path at (4, 3)\n",
      "Current path ended at (4, 3)\n",
      "Starting new path at (0, 0)\n",
      "Current path ended at (0, 0)\n",
      "Starting new path at (5, 3)\n",
      "Current path ended at (5, 3)\n",
      "Starting new path at (4, 2)\n",
      "Current path ended at (4, 2)\n",
      "Starting new path at (5, 6)\n",
      "Current path ended at (5, 6)\n",
      "Starting new path at (1, 6)\n",
      "Current path ended at (1, 6)\n",
      "Starting new path at (1, 1)\n",
      "Current path ended at (1, 1)\n",
      "Starting new path at (4, 1)\n",
      "Current path ended at (4, 1)\n",
      "Starting new path at (0, 3)\n",
      "Current path ended at (0, 3)\n",
      "Starting new path at (3, 1)\n",
      "Current path ended at (3, 1)\n",
      "Starting new path at (1, 2)\n",
      "Current path ended at (1, 2)\n",
      "Starting new path at (6, 0)\n",
      "Current path ended at (6, 0)\n",
      "Starting new path at (1, 5)\n",
      "Current path ended at (1, 5)\n",
      "Starting new path at (3, 0)\n",
      "Next Move: (2, 0)\n",
      "Current path ended at (2, 0)\n",
      "Starting new path at (2, 0)\n",
      "Current path ended at (2, 0)\n",
      "Starting new path at (0, 2)\n",
      "Current path ended at (0, 2)\n",
      "Starting new path at (1, 3)\n",
      "Current path ended at (1, 3)\n",
      "Starting new path at (3, 5)\n",
      "Current path ended at (3, 5)\n",
      "Starting new path at (3, 2)\n",
      "Current path ended at (3, 2)\n",
      "Starting new path at (3, 6)\n",
      "Current path ended at (3, 6)\n",
      "Starting new path at (3, 3)\n",
      "Current path ended at (3, 3)\n",
      "Starting new path at (4, 6)\n",
      "Current path ended at (4, 6)\n",
      "Starting new path at (6, 3)\n",
      "Current path ended at (6, 3)\n",
      "Starting new path at (5, 5)\n",
      "Current path ended at (5, 5)\n",
      "Starting new path at (1, 0)\n",
      "Current path ended at (1, 0)\n",
      "Starting new path at (5, 1)\n",
      "Current path ended at (5, 1)\n",
      "Starting new path at (6, 1)\n",
      "Current path ended at (6, 1)\n"
     ]
    }
   ],
   "source": [
    "m.search()"
   ]
  },
  {
   "cell_type": "code",
   "execution_count": 86,
   "id": "18b97c69-16ca-479b-85b5-c7684a3c82d0",
   "metadata": {},
   "outputs": [
    {
     "name": "stdout",
     "output_type": "stream",
     "text": [
      "[[1. 1. 1. 1. 1. 1. 1.]\n",
      " [1. 1. 1. 1. 1. 1. 1.]\n",
      " [1. 1. 1. 1. 1. 1. 1.]\n",
      " [1. 1. 1. 1. 1. 1. 1.]\n",
      " [1. 1. 1. 1. 1. 1. 1.]\n",
      " [1. 1. 1. 1. 1. 1. 1.]\n",
      " [1. 1. 1. 1. 1. 1. 1.]]\n"
     ]
    }
   ],
   "source": [
    "print(m._found_cells)"
   ]
  },
  {
   "cell_type": "code",
   "execution_count": 87,
   "id": "3333104d-b0dc-46b8-9819-f1a51e930a7b",
   "metadata": {},
   "outputs": [
    {
     "name": "stdout",
     "output_type": "stream",
     "text": [
      "[[1. 1. 1. 1. 1. 1. 1.]\n",
      " [1. 1. 1. 1. 1. 1. 1.]\n",
      " [1. 0. 1. 1. 1. 1. 1.]\n",
      " [1. 1. 1. 1. 1. 1. 1.]\n",
      " [1. 1. 1. 1. 1. 1. 1.]\n",
      " [0. 1. 1. 1. 1. 1. 1.]\n",
      " [1. 1. 1. 1. 1. 1. 1.]]\n"
     ]
    }
   ],
   "source": [
    "print(m._explored_cells)"
   ]
  },
  {
   "cell_type": "code",
   "execution_count": 88,
   "id": "9da4aeef-ace4-49c2-ac81-b594638fb975",
   "metadata": {},
   "outputs": [
    {
     "data": {
      "text/plain": [
       "47.0"
      ]
     },
     "execution_count": 88,
     "metadata": {},
     "output_type": "execute_result"
    }
   ],
   "source": [
    "np.sum(m._explored_cells)"
   ]
  },
  {
   "cell_type": "code",
   "execution_count": 89,
   "id": "39c9ea35-de5e-4265-90ea-a01412991558",
   "metadata": {},
   "outputs": [
    {
     "name": "stdout",
     "output_type": "stream",
     "text": [
      "[(0, 0), (0, 1)]\n"
     ]
    }
   ],
   "source": [
    "f = (0,0)\n",
    "t = (0,1)\n",
    "ft = [f,t]\n",
    "print(ft)\n",
    "m._mark_grid(ft)"
   ]
  },
  {
   "cell_type": "code",
   "execution_count": 90,
   "id": "ef0e6b74-74f2-4a2c-9eb3-db8857fb614d",
   "metadata": {},
   "outputs": [
    {
     "data": {
      "text/plain": [
       "array([[ 0.,  0.,  0., -1., -1., -1., -1., -1., -1., -1., -1., -1., -1.],\n",
       "       [-1., -1., -1., -1., -1., -1., -1., -1., -1., -1., -1., -1., -1.],\n",
       "       [-1., -1., -1., -1., -1., -1., -1., -1., -1., -1., -1., -1., -1.],\n",
       "       [-1., -1., -1., -1., -1., -1., -1., -1., -1., -1., -1., -1., -1.],\n",
       "       [-1., -1., -1., -1., -1., -1., -1., -1., -1., -1., -1., -1., -1.],\n",
       "       [-1., -1., -1., -1., -1., -1., -1., -1., -1., -1., -1., -1., -1.],\n",
       "       [-1., -1., -1., -1., -1., -1., -1., -1., -1., -1., -1., -1., -1.],\n",
       "       [-1., -1., -1., -1., -1., -1., -1., -1., -1., -1., -1., -1., -1.],\n",
       "       [-1., -1., -1., -1., -1., -1., -1., -1., -1., -1., -1., -1., -1.],\n",
       "       [-1., -1., -1., -1., -1., -1., -1., -1., -1., -1., -1., -1., -1.],\n",
       "       [-1., -1., -1., -1., -1., -1., -1., -1., -1., -1., -1., -1., -1.],\n",
       "       [-1., -1., -1., -1., -1., -1., -1., -1., -1., -1., -1., -1., -1.],\n",
       "       [-1., -1., -1., -1., -1., -1., -1., -1., -1., -1., -1., -1., -1.]])"
      ]
     },
     "execution_count": 90,
     "metadata": {},
     "output_type": "execute_result"
    }
   ],
   "source": [
    "m._grid"
   ]
  },
  {
   "cell_type": "code",
   "execution_count": 91,
   "id": "3f1703f7-b727-45ff-8ecb-bec72d382290",
   "metadata": {},
   "outputs": [],
   "source": [
    "m.make_grid()"
   ]
  },
  {
   "cell_type": "code",
   "execution_count": 92,
   "id": "8673df0a-0859-4b4a-ae5d-6e4871e878bc",
   "metadata": {},
   "outputs": [
    {
     "data": {
      "text/plain": [
       "array([[ 0.,  0.,  0.,  0.,  0.,  0.,  0.,  0.,  0.,  0.,  0.,  0.,  0.],\n",
       "       [ 0., -1., -1., -1., -1., -1., -1., -1.,  0., -1.,  0., -1.,  0.],\n",
       "       [ 0., -1.,  0.,  0.,  0., -1.,  0.,  0.,  0., -1.,  0., -1.,  0.],\n",
       "       [-1., -1.,  0., -1.,  0., -1.,  0., -1., -1., -1.,  0., -1.,  0.],\n",
       "       [ 0., -1.,  0., -1.,  0., -1.,  0.,  0.,  0., -1.,  0., -1.,  0.],\n",
       "       [ 0., -1.,  0., -1.,  0., -1.,  0., -1.,  0., -1.,  0., -1., -1.],\n",
       "       [ 0.,  0.,  0., -1.,  0.,  0.,  0., -1.,  0., -1.,  0.,  0.,  0.],\n",
       "       [ 0., -1., -1., -1., -1., -1., -1., -1., -1., -1., -1., -1.,  0.],\n",
       "       [ 0.,  0.,  0., -1.,  0.,  0.,  0., -1.,  0.,  0.,  0.,  0.,  0.],\n",
       "       [ 0., -1., -1., -1.,  0., -1.,  0., -1.,  0., -1., -1., -1., -1.],\n",
       "       [ 0.,  0.,  0., -1.,  0., -1.,  0., -1.,  0.,  0.,  0., -1.,  0.],\n",
       "       [-1., -1.,  0., -1.,  0., -1., -1., -1., -1., -1.,  0., -1.,  0.],\n",
       "       [ 0.,  0.,  0., -1.,  0.,  0.,  0.,  0.,  0.,  0.,  0.,  0.,  0.]])"
      ]
     },
     "execution_count": 92,
     "metadata": {},
     "output_type": "execute_result"
    }
   ],
   "source": [
    "m._grid"
   ]
  },
  {
   "cell_type": "code",
   "execution_count": 93,
   "id": "c0bfd0bb-2774-447e-8dbd-6836c0eb8d9a",
   "metadata": {},
   "outputs": [],
   "source": [
    "np.savetxt('data/output.csv', m._grid, delimiter=\",\")\n"
   ]
  },
  {
   "cell_type": "code",
   "execution_count": 94,
   "id": "677ca866-4097-4b29-a0a6-95f71aadbae7",
   "metadata": {},
   "outputs": [],
   "source": [
    "arr = np.loadtxt('data/output.csv',delimiter=\",\")\n"
   ]
  },
  {
   "cell_type": "code",
   "execution_count": 95,
   "id": "4d88152c-423b-4214-a7f2-dca8b97be474",
   "metadata": {},
   "outputs": [
    {
     "data": {
      "text/plain": [
       "array([[ 0.,  0.,  0.,  0.,  0.,  0.,  0.,  0.,  0.,  0.,  0.,  0.,  0.],\n",
       "       [ 0., -1., -1., -1., -1., -1., -1., -1.,  0., -1.,  0., -1.,  0.],\n",
       "       [ 0., -1.,  0.,  0.,  0., -1.,  0.,  0.,  0., -1.,  0., -1.,  0.],\n",
       "       [-1., -1.,  0., -1.,  0., -1.,  0., -1., -1., -1.,  0., -1.,  0.],\n",
       "       [ 0., -1.,  0., -1.,  0., -1.,  0.,  0.,  0., -1.,  0., -1.,  0.],\n",
       "       [ 0., -1.,  0., -1.,  0., -1.,  0., -1.,  0., -1.,  0., -1., -1.],\n",
       "       [ 0.,  0.,  0., -1.,  0.,  0.,  0., -1.,  0., -1.,  0.,  0.,  0.],\n",
       "       [ 0., -1., -1., -1., -1., -1., -1., -1., -1., -1., -1., -1.,  0.],\n",
       "       [ 0.,  0.,  0., -1.,  0.,  0.,  0., -1.,  0.,  0.,  0.,  0.,  0.],\n",
       "       [ 0., -1., -1., -1.,  0., -1.,  0., -1.,  0., -1., -1., -1., -1.],\n",
       "       [ 0.,  0.,  0., -1.,  0., -1.,  0., -1.,  0.,  0.,  0., -1.,  0.],\n",
       "       [-1., -1.,  0., -1.,  0., -1., -1., -1., -1., -1.,  0., -1.,  0.],\n",
       "       [ 0.,  0.,  0., -1.,  0.,  0.,  0.,  0.,  0.,  0.,  0.,  0.,  0.]])"
      ]
     },
     "execution_count": 95,
     "metadata": {},
     "output_type": "execute_result"
    }
   ],
   "source": [
    "arr"
   ]
  },
  {
   "cell_type": "code",
   "execution_count": null,
   "id": "13374b35-b961-4930-a258-be774c1d20e1",
   "metadata": {},
   "outputs": [],
   "source": []
  }
 ],
 "metadata": {
  "kernelspec": {
   "display_name": "Python 3 (ipykernel)",
   "language": "python",
   "name": "python3"
  },
  "language_info": {
   "codemirror_mode": {
    "name": "ipython",
    "version": 3
   },
   "file_extension": ".py",
   "mimetype": "text/x-python",
   "name": "python",
   "nbconvert_exporter": "python",
   "pygments_lexer": "ipython3",
   "version": "3.10.5"
  }
 },
 "nbformat": 4,
 "nbformat_minor": 5
}
