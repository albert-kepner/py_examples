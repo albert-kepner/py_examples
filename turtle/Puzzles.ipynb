{
 "cells": [
  {
   "cell_type": "markdown",
   "id": "e4bd7e6b-946c-47cf-a6ac-cba790ef6e2a",
   "metadata": {},
   "source": [
    "How would you write  factorial as a recursive function in Python?"
   ]
  },
  {
   "cell_type": "markdown",
   "id": "9f9d4996-c831-45f2-a6b6-20332dfc7093",
   "metadata": {},
   "source": [
    "Hint 3! = 3 * 2 * 1"
   ]
  },
  {
   "cell_type": "code",
   "execution_count": null,
   "id": "fa3e6cc7-1c1d-48d3-be9f-9f27e6581039",
   "metadata": {},
   "outputs": [],
   "source": []
  },
  {
   "cell_type": "code",
   "execution_count": 1,
   "id": "316047a8-8bfe-472b-bede-aefae70321e6",
   "metadata": {},
   "outputs": [],
   "source": [
    "from turtle import *\n",
    "\n",
    "\n",
    "## Move the turtle 100 units head east (0 degrees)\n",
    "forward(100)"
   ]
  },
  {
   "cell_type": "code",
   "execution_count": 2,
   "id": "0260455f-472d-4968-bcd9-55641611d689",
   "metadata": {},
   "outputs": [],
   "source": [
    "### Now clear the display\n",
    "\n",
    "clearscreen()"
   ]
  },
  {
   "cell_type": "code",
   "execution_count": 3,
   "id": "6bb048d4-ed7e-4119-a823-9d95f1ea0cd8",
   "metadata": {},
   "outputs": [],
   "source": [
    "### When Done dismiss the window (Don't use this until really done! )\n",
    "\n",
    "## bye()"
   ]
  },
  {
   "cell_type": "code",
   "execution_count": 4,
   "id": "bb6d5bb3-ec47-47c8-b27f-37cee038733f",
   "metadata": {},
   "outputs": [],
   "source": [
    "\n",
    "### Now write a function that draws a line of length distance  in a direction angle degrees, then return to the origin.\n",
    "\n",
    "## Hints\n",
    "\n",
    "## If distance = 50 and angle = 30 degrees\n",
    "\n",
    "setheading(30)\n",
    "forward(50)\n",
    "## return to origin\n",
    "home()\n",
    "\n",
    "## But now you do it as a function called move_turtle(distance, angle)\n",
    "\n",
    "## calling move_turtle(50,30) should have the same effect as above."
   ]
  },
  {
   "cell_type": "code",
   "execution_count": 5,
   "id": "1f47c43e-307b-44f5-a182-95618050ca56",
   "metadata": {},
   "outputs": [],
   "source": [
    "def move_turtle(distance, angle):\n",
    "    pass\n",
    "    ## you fill in the details."
   ]
  },
  {
   "cell_type": "code",
   "execution_count": 6,
   "id": "37421ce8-5c58-4042-9903-755f5af93c22",
   "metadata": {},
   "outputs": [],
   "source": [
    "def move_turtle(distance, angle):\n",
    "    setheading(angle)\n",
    "    forward(distance)\n",
    "    home()\n",
    "    print(heading())"
   ]
  },
  {
   "cell_type": "code",
   "execution_count": null,
   "id": "c2f71a0c-ff0e-4cb5-97cf-f326420889fb",
   "metadata": {},
   "outputs": [],
   "source": []
  },
  {
   "cell_type": "code",
   "execution_count": 7,
   "id": "f1a72eee-9d06-4d2e-a97e-029da5bdd665",
   "metadata": {},
   "outputs": [
    {
     "name": "stdout",
     "output_type": "stream",
     "text": [
      "0.0\n",
      "0.0\n",
      "0.0\n",
      "0.0\n",
      "0.0\n"
     ]
    }
   ],
   "source": [
    "## Exersise your function\n",
    "clearscreen()\n",
    "move_turtle( 50, 0)\n",
    "move_turtle( 100, 45)\n",
    "move_turtle( 150, 90)\n",
    "move_turtle( 200, 135)\n",
    "move_turtle( 150, 180)"
   ]
  },
  {
   "cell_type": "code",
   "execution_count": 8,
   "id": "e640e8ce-b921-4262-9f93-227c6552b9b3",
   "metadata": {},
   "outputs": [
    {
     "data": {
      "text/plain": [
       "0.0"
      ]
     },
     "execution_count": 8,
     "metadata": {},
     "output_type": "execute_result"
    }
   ],
   "source": [
    "heading()"
   ]
  },
  {
   "cell_type": "code",
   "execution_count": null,
   "id": "6630a356-d85e-4150-875d-7f533317eb14",
   "metadata": {},
   "outputs": [],
   "source": []
  },
  {
   "cell_type": "code",
   "execution_count": null,
   "id": "d144b10c-5124-458c-a5f0-1613f9766096",
   "metadata": {},
   "outputs": [],
   "source": []
  },
  {
   "cell_type": "markdown",
   "id": "eeef4edc-55c9-43de-bbfc-4d14ef1bf478",
   "metadata": {},
   "source": [
    "#A tuple is a simple data structure in python, representing a sequence of values. Unlike lists, Tuples are immutable which means they cannot be changed\n",
    "after creation.\n",
    "\n",
    "For example two dimiensional points (0,0) the origin or\n",
    "\n",
    "(4, 4)\n",
    "\n",
    "Like Lists, tuples can be indexed or sliced"
   ]
  },
  {
   "cell_type": "code",
   "execution_count": 9,
   "id": "50887445-0d7c-4538-8423-d56c3d773d15",
   "metadata": {},
   "outputs": [
    {
     "name": "stdout",
     "output_type": "stream",
     "text": [
      "3\n",
      "(4, 5, 6)\n"
     ]
    }
   ],
   "source": [
    "tuple1 = (3, 4, 5, 6)\n",
    "\n",
    "print(tuple1[0])\n",
    "print(tuple1[1:4])"
   ]
  },
  {
   "cell_type": "code",
   "execution_count": 10,
   "id": "a21932e2-ca6d-482e-9d6f-647f4c743910",
   "metadata": {},
   "outputs": [
    {
     "ename": "TypeError",
     "evalue": "'tuple' object does not support item assignment",
     "output_type": "error",
     "traceback": [
      "\u001b[1;31m---------------------------------------------------------------------------\u001b[0m",
      "\u001b[1;31mTypeError\u001b[0m                                 Traceback (most recent call last)",
      "Cell \u001b[1;32mIn[10], line 2\u001b[0m\n\u001b[0;32m      1\u001b[0m \u001b[38;5;66;03m## you cannot modify tuples. The following code causes an error\u001b[39;00m\n\u001b[1;32m----> 2\u001b[0m \u001b[43mtuple1\u001b[49m\u001b[43m[\u001b[49m\u001b[38;5;241;43m1\u001b[39;49m\u001b[43m]\u001b[49m \u001b[38;5;241m=\u001b[39m \u001b[38;5;241m9\u001b[39m\n",
      "\u001b[1;31mTypeError\u001b[0m: 'tuple' object does not support item assignment"
     ]
    }
   ],
   "source": [
    "## you cannot modify tuples. The following code causes an error\n",
    "## tuple1[1] = 9"
   ]
  },
  {
   "cell_type": "code",
   "execution_count": null,
   "id": "c91af6b8-4c7e-4535-8a06-bfd84bc100fd",
   "metadata": {},
   "outputs": [],
   "source": []
  },
  {
   "cell_type": "code",
   "execution_count": null,
   "id": "10e60b5c-bd83-4136-bb3c-90ac639c0570",
   "metadata": {},
   "outputs": [],
   "source": [
    "## Generating random integers\n",
    "\n",
    "from random import randint\n",
    "\n",
    "## print a random integer from 1 to 3 inclusive\n",
    "\n",
    "print (randint(1,3))\n",
    "\n",
    "## do it 10 times ...\n",
    "for i in range(10):\n",
    "    print (randint(1,3))"
   ]
  },
  {
   "cell_type": "code",
   "execution_count": null,
   "id": "32026f05-e92e-427a-a970-47680cb901e3",
   "metadata": {},
   "outputs": [],
   "source": [
    "## lets generate a list of random tuples (a,b) where a is in range 1-5 and b is in range (6-10)\n",
    "\n",
    "list1 = []\n",
    "for i in range(10):\n",
    "    a = randint(1,5)\n",
    "    b = randint(6,10)\n",
    "    tuple_ab = (a,b)\n",
    "    list1.append(tuple_ab)\n",
    "print(list1)"
   ]
  },
  {
   "cell_type": "code",
   "execution_count": null,
   "id": "fbc888d4-7fab-470c-8b18-224e4dda7a7d",
   "metadata": {},
   "outputs": [],
   "source": [
    "## Challenge: Construct a list of 20 random tuples (a, b) where a is a multiple of 10 in range 10 to 200,\n",
    "## and b is a multiple of 10 in range 10 to 360\n",
    "\n",
    "## print the list\n",
    "\n",
    "## Start a picture with clearscreen()\n",
    "## now call move_turtle(a,b) for each tuple in your list"
   ]
  },
  {
   "cell_type": "code",
   "execution_count": null,
   "id": "ccf5bf6d-ada7-4fba-9a88-0fdd8034ba7a",
   "metadata": {},
   "outputs": [],
   "source": [
    "clearscreen()\n",
    "list2 = []\n",
    "for i in range(20):\n",
    "    a =  10 * randint(1,20)\n",
    "    b = 10 *randint(1,36)\n",
    "    tuple_ab = (a,b)\n",
    "    list2.append(tuple_ab)\n",
    "print(list2)\n",
    "\n",
    "for a, b in list2:\n",
    "    move_turtle(a,b)\n",
    "    ## print ((a,b))"
   ]
  },
  {
   "cell_type": "code",
   "execution_count": null,
   "id": "3b39e645-94a3-4cd6-988b-309a0843caca",
   "metadata": {},
   "outputs": [],
   "source": [
    "def picture_recur(level,  start_pos, direction, width, draw_pic):\n",
    "    setposition(start_pos)\n",
    "    setheading(direction)\n",
    "    draw_pic(width)\n",
    "\n",
    "\n",
    "def draw_triangle(width):\n",
    "    for i in range(3):\n",
    "        forward(width)\n",
    "        left(120)\n",
    "\n",
    "\n",
    "\n",
    "\n",
    "\n",
    "    "
   ]
  },
  {
   "cell_type": "code",
   "execution_count": null,
   "id": "f7b33813-7d4c-4fcc-acd4-fc65419f85eb",
   "metadata": {},
   "outputs": [],
   "source": [
    "clearscreen()\n",
    "\n",
    "draw_triangle(200)"
   ]
  },
  {
   "cell_type": "code",
   "execution_count": null,
   "id": "4a4e3073-d0f2-4a0d-a64d-e37615286642",
   "metadata": {},
   "outputs": [],
   "source": [
    "def triangle_recur(level, width):\n",
    "        for i in range(3):\n",
    "            forward(width)\n",
    "            if level > 0:\n",
    "                save_heading = heading()\n",
    "                triangle_recur(level - 1, width/2)\n",
    "                setheading(save_heading)\n",
    "            left(120)\n",
    " "
   ]
  },
  {
   "cell_type": "code",
   "execution_count": null,
   "id": "ce57e190-57d2-43c1-a000-db1519f598b3",
   "metadata": {},
   "outputs": [],
   "source": [
    "clearscreen()\n",
    "triangle_recur(0,200)"
   ]
  },
  {
   "cell_type": "code",
   "execution_count": null,
   "id": "7d985f8a-cb82-4282-9edf-5f51bb919dea",
   "metadata": {},
   "outputs": [],
   "source": [
    "clearscreen()"
   ]
  },
  {
   "cell_type": "raw",
   "id": "a476f7d7-e948-4c5e-9552-ba459f054e23",
   "metadata": {},
   "source": [
    "clearscreen()\n",
    "triangle_recur(1,200)"
   ]
  },
  {
   "cell_type": "code",
   "execution_count": null,
   "id": "5439910b-f6b1-4496-8a5e-7f99872c12d1",
   "metadata": {},
   "outputs": [],
   "source": [
    "## debug version\n",
    "def triangle_recur(level, width):\n",
    "        for i in range(3):\n",
    "            ## print(f'go forward {width}')\n",
    "            forward(width)\n",
    "            if level > 0:\n",
    "                save_heading = heading()\n",
    "                triangle_recur(level - 1, width/2)\n",
    "                setheading(save_heading)\n",
    "            left(120)\n",
    " "
   ]
  },
  {
   "cell_type": "code",
   "execution_count": null,
   "id": "86a3638a-7961-46ed-b322-26bc3cbf41e2",
   "metadata": {},
   "outputs": [],
   "source": [
    "clearscreen()\n",
    "triangle_recur(1,200)"
   ]
  },
  {
   "cell_type": "code",
   "execution_count": null,
   "id": "8b8a355d-62c0-4517-958b-db385850e190",
   "metadata": {},
   "outputs": [],
   "source": [
    "clearscreen()\n",
    "triangle_recur(2,200)"
   ]
  },
  {
   "cell_type": "code",
   "execution_count": null,
   "id": "915441eb-3354-4695-beda-21d9ac3874b9",
   "metadata": {},
   "outputs": [],
   "source": [
    "clearscreen()\n",
    "width = 200\n",
    "start_pos = (-width/2, -width/2)\n",
    "penup()\n",
    "setpos(start_pos)\n",
    "pendown()\n",
    "\n",
    "triangle_recur(2,width)"
   ]
  },
  {
   "cell_type": "code",
   "execution_count": 13,
   "id": "5d43830b-a993-49c6-b5ff-66dd3dcf150a",
   "metadata": {},
   "outputs": [],
   "source": [
    "## debug version\n",
    "def triangle_recur(level, width):\n",
    "    begin_fill()\n",
    "    for i in range(3):\n",
    "        ## print(f'go forward {width}')\n",
    "        forward(width)\n",
    "        if level > 0:\n",
    "            save_heading = heading()\n",
    "            triangle_recur(level - 1, width/2)\n",
    "            setheading(save_heading)\n",
    "        left(120)\n",
    "    end_fill()\n",
    "\n",
    "            \n",
    " "
   ]
  },
  {
   "cell_type": "code",
   "execution_count": 14,
   "id": "7e9905bf-e940-442c-8c17-6831062cac71",
   "metadata": {},
   "outputs": [
    {
     "name": "stdout",
     "output_type": "stream",
     "text": [
      "(-100.00,-100.00)\n"
     ]
    }
   ],
   "source": [
    "clearscreen()\n",
    "color(\"black\",\"red\")\n",
    "width = 200\n",
    "start_pos = (-width/2, -width/2)\n",
    "penup()\n",
    "setpos(start_pos)\n",
    "pendown()\n",
    "print(pos())\n",
    "\n",
    "triangle_recur(0,width)"
   ]
  },
  {
   "cell_type": "code",
   "execution_count": 15,
   "id": "0b15307f-a96b-4dc1-8c7f-934f8b13d503",
   "metadata": {},
   "outputs": [
    {
     "name": "stdout",
     "output_type": "stream",
     "text": [
      "(-100.00,-100.00)\n"
     ]
    }
   ],
   "source": [
    "clearscreen()\n",
    "color(\"black\",\"red\")\n",
    "width = 200\n",
    "start_pos = (-width/2, -width/2)\n",
    "penup()\n",
    "setpos(start_pos)\n",
    "pendown()\n",
    "print(pos())\n",
    "\n",
    "triangle_recur(1,width)"
   ]
  },
  {
   "cell_type": "code",
   "execution_count": 16,
   "id": "ad180e87-d60a-416f-ae1e-7c66877dea1b",
   "metadata": {},
   "outputs": [
    {
     "name": "stdout",
     "output_type": "stream",
     "text": [
      "(-100.00,-100.00)\n"
     ]
    }
   ],
   "source": [
    "clearscreen()\n",
    "color(\"black\",\"red\")\n",
    "width = 200\n",
    "start_pos = (-width/2, -width/2)\n",
    "penup()\n",
    "setpos(start_pos)\n",
    "pendown()\n",
    "print(pos())\n",
    "\n",
    "triangle_recur(2,width)"
   ]
  },
  {
   "cell_type": "code",
   "execution_count": null,
   "id": "746867cc-6b7a-4cdb-8ce5-3dfadf712553",
   "metadata": {},
   "outputs": [],
   "source": [
    "clearscreen()\n",
    "color(\"black\",\"red\")\n",
    "width = 200\n",
    "start_pos = (-width/2, -width/2)\n",
    "penup()\n",
    "setpos(start_pos)\n",
    "pendown()\n",
    "print(pos())\n",
    "\n",
    "triangle_recur(3,width)"
   ]
  },
  {
   "cell_type": "code",
   "execution_count": null,
   "id": "75573982-74d4-46d8-ac64-ebb410fea9a5",
   "metadata": {},
   "outputs": [],
   "source": []
  },
  {
   "cell_type": "code",
   "execution_count": null,
   "id": "c22d1153-ae21-4e99-8105-20cd0521b0fd",
   "metadata": {},
   "outputs": [],
   "source": [
    "def poly_recur(sides, level, width):\n",
    "    begin_fill()\n",
    "    for i in range(sides):\n",
    "        ## print(f'go forward {width}')\n",
    "        forward(width)\n",
    "        if level > 0:\n",
    "            save_heading = heading()\n",
    "            triangle_recur(level - 1, width/2)\n",
    "            setheading(save_heading)\n",
    "        left(360/sides)\n",
    "    end_fill()"
   ]
  },
  {
   "cell_type": "code",
   "execution_count": null,
   "id": "bbab3de2-6d53-495a-a402-5f69086d733e",
   "metadata": {},
   "outputs": [],
   "source": [
    "clearscreen()\n",
    "color(\"black\",\"red\")\n",
    "width = 200\n",
    "start_pos = (-width/2, -width/2)\n",
    "penup()\n",
    "setpos(start_pos)\n",
    "pendown()\n",
    "print(pos())\n",
    "\n",
    "poly_recur(4,0,width)"
   ]
  },
  {
   "cell_type": "code",
   "execution_count": null,
   "id": "f76f3130-937a-483f-a7cd-27c280d7672b",
   "metadata": {},
   "outputs": [],
   "source": [
    "clearscreen()\n",
    "color(\"black\",\"red\")\n",
    "width = 200\n",
    "start_pos = (-width/2, -width/2)\n",
    "penup()\n",
    "setpos(start_pos)\n",
    "pendown()\n",
    "print(pos())\n",
    "\n",
    "poly_recur(4,1,width)"
   ]
  },
  {
   "cell_type": "code",
   "execution_count": null,
   "id": "a2b3af81-d1e4-45de-b252-443b8038f41e",
   "metadata": {},
   "outputs": [],
   "source": [
    "def poly_recur(sides, level, width):\n",
    "    begin_fill()\n",
    "    for i in range(sides):\n",
    "        ## print(f'go forward {width}')\n",
    "        forward(width)\n",
    "        if level > 0:\n",
    "            save_heading = heading()\n",
    "            poly_recur(sides, level - 1, width/2)\n",
    "            setheading(save_heading)\n",
    "        left(360/sides)\n",
    "    end_fill()"
   ]
  },
  {
   "cell_type": "code",
   "execution_count": null,
   "id": "15cdeb58-21d1-4e46-b6c0-ceb7bb3d4b91",
   "metadata": {},
   "outputs": [],
   "source": [
    "clearscreen()\n",
    "color(\"black\",\"red\")\n",
    "width = 200\n",
    "start_pos = (-width/2, -width/2)\n",
    "penup()\n",
    "setpos(start_pos)\n",
    "pendown()\n",
    "print(pos())\n",
    "\n",
    "poly_recur(4,1,width)"
   ]
  },
  {
   "cell_type": "code",
   "execution_count": null,
   "id": "80e29017-034f-4624-a402-841c1d376a2b",
   "metadata": {},
   "outputs": [],
   "source": [
    "clearscreen()\n",
    "color(\"black\",\"red\")\n",
    "width = 200\n",
    "start_pos = (-width/2, -width/2)\n",
    "penup()\n",
    "setpos(start_pos)\n",
    "pendown()\n",
    "print(pos())\n",
    "\n",
    "\n",
    "poly_recur(4,2,width)"
   ]
  },
  {
   "cell_type": "code",
   "execution_count": null,
   "id": "4be6137c-7b9b-41fc-a0a1-bc3d7847c885",
   "metadata": {},
   "outputs": [],
   "source": [
    "clearscreen()\n",
    "color(\"black\",\"red\")\n",
    "width = 200\n",
    "start_pos = (-width/2, -width/2)\n",
    "penup()\n",
    "setpos(start_pos)\n",
    "pendown()\n",
    "print(pos())\n",
    "\n",
    "\n",
    "poly_recur(5,1,width)"
   ]
  },
  {
   "cell_type": "code",
   "execution_count": null,
   "id": "a2782d6d-ee08-44d2-a57f-142dc7f1ccf5",
   "metadata": {},
   "outputs": [],
   "source": [
    "clearscreen()\n",
    "color(\"black\",\"red\")\n",
    "width = 200\n",
    "start_pos = (-width/2, -width/2)\n",
    "penup()\n",
    "setpos(start_pos)\n",
    "pendown()\n",
    "print(pos())\n",
    "\n",
    "\n",
    "poly_recur(5,2,width)"
   ]
  },
  {
   "cell_type": "code",
   "execution_count": 18,
   "id": "259b4521-7cbf-4ba2-ac2c-456c1ed4e1d1",
   "metadata": {},
   "outputs": [],
   "source": [
    "def poly_recur(sides, level, width):\n",
    "    begin_fill()\n",
    "    for i in range(sides):\n",
    "        ## print(f'go forward {width}')\n",
    "        forward(width)\n",
    "        if level > 0:\n",
    "            save_heading = heading()\n",
    "            poly_recur(sides, level - 1, width/3)\n",
    "            setheading(save_heading)\n",
    "        left(360/sides)\n",
    "    end_fill()"
   ]
  },
  {
   "cell_type": "code",
   "execution_count": null,
   "id": "603e3d6b-a7dd-405d-b3ab-6b932acde101",
   "metadata": {},
   "outputs": [],
   "source": [
    "clearscreen()\n",
    "color(\"black\",\"red\")\n",
    "width = 200\n",
    "start_pos = (-width/2, -width/2)\n",
    "penup()\n",
    "setpos(start_pos)\n",
    "pendown()\n",
    "print(pos())\n",
    "\n",
    "\n",
    "poly_recur(5,2,width)"
   ]
  },
  {
   "cell_type": "code",
   "execution_count": 19,
   "id": "55d7178b-c260-4424-bf77-d9c8c63d38a2",
   "metadata": {},
   "outputs": [
    {
     "name": "stdout",
     "output_type": "stream",
     "text": [
      "(-100.00,-100.00)\n"
     ]
    }
   ],
   "source": [
    "clearscreen()\n",
    "color(\"black\",\"red\")\n",
    "width = 200\n",
    "start_pos = (-width/2, -width/2)\n",
    "penup()\n",
    "setpos(start_pos)\n",
    "pendown()\n",
    "print(pos())\n",
    "\n",
    "\n",
    "poly_recur(7,2,width)"
   ]
  },
  {
   "cell_type": "code",
   "execution_count": null,
   "id": "dfc20fe0-49fd-4b77-9f8f-53f24797cf8e",
   "metadata": {},
   "outputs": [],
   "source": [
    "def poly_recur2(sides, level, width, decay):\n",
    "    begin_fill()\n",
    "    for i in range(sides):\n",
    "        ## print(f'go forward {width}')\n",
    "        forward(width)\n",
    "        width = width * decay\n",
    "        if level > 0:\n",
    "            save_heading = heading()\n",
    "            poly_recur2(sides, level - 1, width/3, decay)\n",
    "            setheading(save_heading)\n",
    "        left(360/sides)\n",
    "    end_fill()"
   ]
  },
  {
   "cell_type": "code",
   "execution_count": null,
   "id": "65389ece-0868-4808-a33b-ea12d7b7dca6",
   "metadata": {},
   "outputs": [],
   "source": [
    "clearscreen()\n",
    "color(\"black\",\"red\")\n",
    "width = 200\n",
    "start_pos = (-width/2, -width/2)\n",
    "penup()\n",
    "setpos(start_pos)\n",
    "pendown()\n",
    "decay = 0.95\n",
    "\n",
    "\n",
    "poly_recur2(7,2,width, decay)"
   ]
  },
  {
   "cell_type": "code",
   "execution_count": 20,
   "id": "66697f9b-6d60-4bdf-8d06-400b081b6926",
   "metadata": {},
   "outputs": [],
   "source": [
    "def poly_recur2(sides, level, width, decay):\n",
    "    begin_fill()\n",
    "    for i in range(sides * 2):\n",
    "        ## print(f'go forward {width}')\n",
    "        forward(width)\n",
    "        width = width * decay\n",
    "        if level > 0:\n",
    "            save_heading = heading()\n",
    "            poly_recur2(sides, level - 1, width/3, decay)\n",
    "            setheading(save_heading)\n",
    "        left(360/sides)\n",
    "    end_fill()"
   ]
  },
  {
   "cell_type": "code",
   "execution_count": 23,
   "id": "ba28223e-f758-4daa-888a-7bdc0e0e35d4",
   "metadata": {},
   "outputs": [],
   "source": [
    "clearscreen()\n",
    "color(\"black\",\"blue\")\n",
    "width = 200\n",
    "start_pos = (-width/2, -width/2)\n",
    "penup()\n",
    "setpos(start_pos)\n",
    "pendown()\n",
    "decay = 0.85\n",
    "\n",
    "\n",
    "poly_recur2(7,2,width, decay)"
   ]
  },
  {
   "cell_type": "code",
   "execution_count": 22,
   "id": "23391022-884c-4ee3-bf4b-891ef9d1834f",
   "metadata": {},
   "outputs": [],
   "source": [
    "clearscreen()\n",
    "color(\"black\",\"blue\")\n",
    "width = 200\n",
    "start_pos = (-width/2, -width/2)\n",
    "penup()\n",
    "setpos(start_pos)\n",
    "pendown()\n",
    "decay = 0.7\n",
    "\n",
    "\n",
    "poly_recur2(3,2,width, decay)"
   ]
  },
  {
   "cell_type": "code",
   "execution_count": null,
   "id": "d75ba6ef-7904-43d1-900f-a56c10669d3c",
   "metadata": {},
   "outputs": [],
   "source": [
    "clearscreen()\n",
    "color(\"black\",\"green\")\n",
    "width = 200\n",
    "start_pos = (-width/2, -width/2)\n",
    "penup()\n",
    "setpos(start_pos)\n",
    "pendown()\n",
    "decay = 0.85\n",
    "\n",
    "\n",
    "poly_recur2(4,2,width, decay)"
   ]
  },
  {
   "cell_type": "code",
   "execution_count": 25,
   "id": "51f2f104-6676-4371-8aa7-7acded1ff449",
   "metadata": {},
   "outputs": [],
   "source": [
    "## bye()"
   ]
  },
  {
   "cell_type": "code",
   "execution_count": null,
   "id": "2d399e8e-f3a2-4696-aada-4ca803176dbe",
   "metadata": {},
   "outputs": [],
   "source": []
  }
 ],
 "metadata": {
  "kernelspec": {
   "display_name": "Python 3 (ipykernel)",
   "language": "python",
   "name": "python3"
  },
  "language_info": {
   "codemirror_mode": {
    "name": "ipython",
    "version": 3
   },
   "file_extension": ".py",
   "mimetype": "text/x-python",
   "name": "python",
   "nbconvert_exporter": "python",
   "pygments_lexer": "ipython3",
   "version": "3.10.5"
  }
 },
 "nbformat": 4,
 "nbformat_minor": 5
}
