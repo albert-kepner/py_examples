{
 "cells": [
  {
   "cell_type": "code",
   "execution_count": 14,
   "id": "18247f80-0759-46b3-98a6-c97c2bb93dfa",
   "metadata": {},
   "outputs": [],
   "source": [
    "import shutil\n",
    "import os\n",
    "import re\n",
    "\n",
    "\n",
    "def copy_file_list(src_dir, dest_dir, file_list):\n",
    "    for relative_path in file_list:\n",
    "        src2 = f'{src_dir}/{relative_path}'\n",
    "        dest2 = f'{dest_dir}/{relative_path}'\n",
    "        src2 = src2[:-1]\n",
    "        dest2 = dest2[:-1]\n",
    "        print(src2)\n",
    "        print(dest2)\n",
    "        print(' ')\n",
    "        shutil.copy(src2, dest2)\n",
    "        "
   ]
  },
  {
   "cell_type": "code",
   "execution_count": 16,
   "id": "2ce5be94-ef19-4b55-af66-674bc559b41b",
   "metadata": {},
   "outputs": [
    {
     "name": "stdout",
     "output_type": "stream",
     "text": [
      "C:/g/2024B/erx/Source/com/mck/mps/erx/db/SnowflakeSqlModifications.java\n",
      "C:/g/2024/erx/Source/com/mck/mps/erx/db/SnowflakeSqlModifications.java\n",
      " \n",
      "C:/g/2024B/erx/Source/com/mck/mps/erx/db/OlapSnowflakeConnectionProxy.java\n",
      "C:/g/2024/erx/Source/com/mck/mps/erx/db/OlapSnowflakeConnectionProxy.java\n",
      " \n",
      "C:/g/2024B/erx/Source/com/techrx/app/trexone/batch/controlledsubstancereporting/ASAP2005FileWriter.java\n",
      "C:/g/2024/erx/Source/com/techrx/app/trexone/batch/controlledsubstancereporting/ASAP2005FileWriter.java\n",
      " \n",
      "C:/g/2024B/erx/Source/com/techrx/app/trexone/batch/controlledsubstancereporting/AZ2005CSRFileWriter.java\n",
      "C:/g/2024/erx/Source/com/techrx/app/trexone/batch/controlledsubstancereporting/AZ2005CSRFileWriter.java\n",
      " \n",
      "C:/g/2024B/erx/Source/com/techrx/app/trexone/batch/controlledsubstancereporting/BaseFileWriter.java\n",
      "C:/g/2024/erx/Source/com/techrx/app/trexone/batch/controlledsubstancereporting/BaseFileWriter.java\n",
      " \n",
      "C:/g/2024B/erx/Source/com/techrx/app/trexone/batch/controlledsubstancereporting/CSDataLoader.java\n",
      "C:/g/2024/erx/Source/com/techrx/app/trexone/batch/controlledsubstancereporting/CSDataLoader.java\n",
      " \n",
      "C:/g/2024B/erx/Source/com/techrx/app/trexone/batch/controlledsubstancereporting/CSFileGenerationProcess.java\n",
      "C:/g/2024/erx/Source/com/techrx/app/trexone/batch/controlledsubstancereporting/CSFileGenerationProcess.java\n",
      " \n",
      "C:/g/2024B/erx/Source/com/techrx/app/trexone/batch/controlledsubstancereporting/CSFileGenerationProperties.java\n",
      "C:/g/2024/erx/Source/com/techrx/app/trexone/batch/controlledsubstancereporting/CSFileGenerationProperties.java\n",
      " \n",
      "C:/g/2024B/erx/Source/com/techrx/app/trexone/batch/controlledsubstancereporting/CSFileGenerator.java\n",
      "C:/g/2024/erx/Source/com/techrx/app/trexone/batch/controlledsubstancereporting/CSFileGenerator.java\n",
      " \n",
      "C:/g/2024B/erx/Source/com/techrx/app/trexone/batch/controlledsubstancereporting/Default2005CSRFileWriter.java\n",
      "C:/g/2024/erx/Source/com/techrx/app/trexone/batch/controlledsubstancereporting/Default2005CSRFileWriter.java\n",
      " \n",
      "C:/g/2024B/erx/Source/com/techrx/app/trexone/batch/controlledsubstancereporting/Default2007CSRFileWriter.java\n",
      "C:/g/2024/erx/Source/com/techrx/app/trexone/batch/controlledsubstancereporting/Default2007CSRFileWriter.java\n",
      " \n",
      "C:/g/2024B/erx/Source/com/techrx/app/trexone/batch/controlledsubstancereporting/FacilityLevelCSFileGenerator.java\n",
      "C:/g/2024/erx/Source/com/techrx/app/trexone/batch/controlledsubstancereporting/FacilityLevelCSFileGenerator.java\n",
      " \n",
      "C:/g/2024B/erx/Source/com/techrx/app/trexone/batch/controlledsubstancereporting/MA2007CSRFileWriter.java\n",
      "C:/g/2024/erx/Source/com/techrx/app/trexone/batch/controlledsubstancereporting/MA2007CSRFileWriter.java\n",
      " \n",
      "C:/g/2024B/erx/Source/com/techrx/app/trexone/batch/controlledsubstancereporting/StateLevelCSFileGenerator.java\n",
      "C:/g/2024/erx/Source/com/techrx/app/trexone/batch/controlledsubstancereporting/StateLevelCSFileGenerator.java\n",
      " \n",
      "C:/g/2024B/erx/Source/com/techrx/app/trexone/batch/controlledsubstancereporting/StateThreadConfiguration.java\n",
      "C:/g/2024/erx/Source/com/techrx/app/trexone/batch/controlledsubstancereporting/StateThreadConfiguration.java\n",
      " \n",
      "C:/g/2024B/erx/Source/com/techrx/app/trexone/batch/controlledsubstancereporting/VT2005CSRFileWriter.java\n",
      "C:/g/2024/erx/Source/com/techrx/app/trexone/batch/controlledsubstancereporting/VT2005CSRFileWriter.java\n",
      " \n",
      "C:/g/2024B/erx/Source/com/techrx/model/util/batch/BatchContextImpl.java\n",
      "C:/g/2024/erx/Source/com/techrx/model/util/batch/BatchContextImpl.java\n",
      " \n",
      "C:/g/2024B/erx/Source/com/techrx/model/util/batch/BatchLauncher.java\n",
      "C:/g/2024/erx/Source/com/techrx/model/util/batch/BatchLauncher.java\n",
      " \n",
      "C:/g/2024B/erx/projects/erx-batch/src/main/dist/properties/batch.properties.j2\n",
      "C:/g/2024/erx/projects/erx-batch/src/main/dist/properties/batch.properties.j2\n",
      " \n"
     ]
    }
   ],
   "source": [
    "def read_files(path):\n",
    "    with open(path) as infile:\n",
    "        files = infile.readlines()\n",
    "    return files\n",
    "\n",
    "\n",
    "file_list = read_files('data/file_list.txt')\n",
    "\n",
    "src_dir = 'C:/g/2024B/erx'\n",
    "dest_dir = 'C:/g/2024/erx'\n",
    "\n",
    "copy_file_list(src_dir, dest_dir, file_list)"
   ]
  },
  {
   "cell_type": "code",
   "execution_count": null,
   "id": "8ed2c559-250a-41cd-bc90-fd456b36f6a5",
   "metadata": {},
   "outputs": [],
   "source": []
  }
 ],
 "metadata": {
  "kernelspec": {
   "display_name": "Python 3 (ipykernel)",
   "language": "python",
   "name": "python3"
  },
  "language_info": {
   "codemirror_mode": {
    "name": "ipython",
    "version": 3
   },
   "file_extension": ".py",
   "mimetype": "text/x-python",
   "name": "python",
   "nbconvert_exporter": "python",
   "pygments_lexer": "ipython3",
   "version": "3.10.5"
  }
 },
 "nbformat": 4,
 "nbformat_minor": 5
}
