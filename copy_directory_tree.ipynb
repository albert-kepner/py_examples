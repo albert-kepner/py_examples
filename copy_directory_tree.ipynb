{
 "cells": [
  {
   "cell_type": "code",
   "execution_count": 1,
   "id": "81898710",
   "metadata": {},
   "outputs": [
    {
     "name": "stdout",
     "output_type": "stream",
     "text": [
      "source = C:\\E\\Brownlee_GAN\\code\n",
      "Permission denied.[Errno 13] Permission denied: 'C:\\\\E\\\\Brownlee_GAN\\\\code'\n"
     ]
    }
   ],
   "source": [
    "## Example copying a directory tree recursively (not working on McKesson laptop ??)\n",
    "\n",
    "## Reference: https://pynative.com/python-copy-files-and-directories/#h-copy-entire-directory\n",
    "\n",
    "# Python program to explain shutil.copy() method\n",
    "   \n",
    "# importing shutil module\n",
    "import shutil\n",
    "import os\n",
    " \n",
    "# Source path\n",
    "source = \"/E/Brownlee_GAN/code\"\n",
    "source = os.path.abspath(source)\n",
    "print(\"source = \"+source)\n",
    "# Destination path\n",
    "destination = \"C:/E/Brownlee_GAN/code4\"\n",
    "os.makedirs(destination,exist_ok=True)\n",
    "# Copy the content of\n",
    "# source to destination\n",
    " \n",
    "try:\n",
    "    shutil.copy(source, destination, follow_symlinks=False)\n",
    "    print(\"File copied successfully.\")\n",
    "# If source and destination are same\n",
    "except shutil.SameFileError:\n",
    "    print(\"Source and destination represents the same file.\") \n",
    "# If there is any permission issue\n",
    "except PermissionError as e:\n",
    "    print(\"Permission denied.\"+str(e))\n",
    "except FileNotFoundError as e:\n",
    "    print(\"Source not found: \"+str(e))\n",
    "except OSError as e:\n",
    "    print(\"OSError:\"+str(e))\n"
   ]
  },
  {
   "cell_type": "code",
   "execution_count": 2,
   "id": "79501383",
   "metadata": {},
   "outputs": [],
   "source": [
    "## Function to recursively copy a directory\n",
    "\n",
    "import shutil\n",
    "import os\n",
    "def copy_tree(src, dest, verbose=False):\n",
    "    os.makedirs(dest, exist_ok=True)\n",
    "    with os.scandir(src) as entries:\n",
    "        for entry in entries:\n",
    "            src2 = os.path.join(src, entry.name)\n",
    "            dest2 = os.path.join(dest, entry.name)\n",
    "\n",
    "            if entry.is_file():\n",
    "                if(verbose):\n",
    "                    print('File: '+entry.name)\n",
    "                shutil.copy(src2, dest2)\n",
    "                \n",
    "            if entry.is_dir():\n",
    "                if(verbose):\n",
    "                    print('Dir: '+entry.name)\n",
    "                copy_tree(src2, dest2, verbose)\n"
   ]
  },
  {
   "cell_type": "code",
   "execution_count": 3,
   "id": "b7c236e4",
   "metadata": {},
   "outputs": [],
   "source": [
    "## Testing fcn above:\n",
    "\n",
    "\n",
    "source = \"/E/Brownlee_GAN/code\"\n",
    "\n",
    "destination = \"C:/E/Brownlee_GAN/code4\"\n",
    "\n",
    "copy_tree(source, destination, verbose=False)"
   ]
  },
  {
   "cell_type": "code",
   "execution_count": 4,
   "id": "117c2d11",
   "metadata": {},
   "outputs": [
    {
     "name": "stdout",
     "output_type": "stream",
     "text": [
      "Done\n"
     ]
    }
   ],
   "source": [
    "destination = \"C:/E/Brownlee_GAN/code5\"\n",
    "copy_tree(source, destination)\n",
    "print(\"Done\")"
   ]
  },
  {
   "cell_type": "code",
   "execution_count": 5,
   "id": "ee60aed1",
   "metadata": {},
   "outputs": [],
   "source": [
    "## Function to recursively copy a directory, and process each file in destination directory.\n",
    "\n",
    "import shutil\n",
    "import os\n",
    "def process_tree(src, dest, func=None, verbose=False):\n",
    "    os.makedirs(dest, exist_ok=True)\n",
    "    with os.scandir(src) as entries:\n",
    "        for entry in entries:\n",
    "            src2 = os.path.join(src, entry.name)\n",
    "            dest2 = os.path.join(dest, entry.name)\n",
    "\n",
    "            if entry.is_file():\n",
    "                if(verbose):\n",
    "                    print('File: '+entry.name)\n",
    "                shutil.copy(src2, dest2)\n",
    "                if func:\n",
    "                    func(dest2)\n",
    "                \n",
    "            if entry.is_dir():\n",
    "                if(verbose):\n",
    "                    print('Dir: '+entry.name)\n",
    "                process_tree(src2, dest2, func, verbose)"
   ]
  },
  {
   "cell_type": "code",
   "execution_count": 6,
   "id": "c3851348",
   "metadata": {},
   "outputs": [],
   "source": [
    "def count_lines(path):\n",
    "    if(path.endswith(\".py\")):\n",
    "        with open(path) as file:\n",
    "            count = len(file.readlines())\n",
    "            print(f'Found {count} lines in {path}')\n",
    "    "
   ]
  },
  {
   "cell_type": "code",
   "execution_count": 7,
   "id": "91559a41",
   "metadata": {},
   "outputs": [
    {
     "name": "stdout",
     "output_type": "stream",
     "text": [
      "Found 15 lines in C:/E/Brownlee_GAN/code4/chapter_02/1_functional_mlp.py\n"
     ]
    }
   ],
   "source": [
    "path = \"C:/E/Brownlee_GAN/code4/chapter_02/1_functional_mlp.py\"\n",
    "count_lines(path)"
   ]
  },
  {
   "cell_type": "code",
   "execution_count": 8,
   "id": "154ec977",
   "metadata": {},
   "outputs": [
    {
     "name": "stdout",
     "output_type": "stream",
     "text": [
      "Found 19 lines in C:/E/Brownlee_GAN/code4\\appendix_02\\01_python_versions.py\n",
      "Found 10 lines in C:/E/Brownlee_GAN/code4\\appendix_02\\02_deep_versions.py\n",
      "Found 15 lines in C:/E/Brownlee_GAN/code4\\chapter_02\\1_functional_mlp.py\n",
      "Found 21 lines in C:/E/Brownlee_GAN/code4\\chapter_02\\2_functional_cnn.py\n",
      "Found 15 lines in C:/E/Brownlee_GAN/code4\\chapter_02\\3_functional_rnn.py\n",
      "Found 22 lines in C:/E/Brownlee_GAN/code4\\chapter_03\\01_upsample_layer.py\n",
      "Found 18 lines in C:/E/Brownlee_GAN/code4\\chapter_03\\02_upsample_generator.py\n",
      "Found 26 lines in C:/E/Brownlee_GAN/code4\\chapter_03\\03_transpose_layer.py\n",
      "Found 15 lines in C:/E/Brownlee_GAN/code4\\chapter_03\\04_transpose_generator.py\n",
      "Found 8 lines in C:/E/Brownlee_GAN/code4\\chapter_05\\01_strided_downsample.py\n",
      "Found 8 lines in C:/E/Brownlee_GAN/code4\\chapter_05\\02_strided_upsample.py\n",
      "Found 10 lines in C:/E/Brownlee_GAN/code4\\chapter_05\\03_leaky_relu.py\n",
      "Found 12 lines in C:/E/Brownlee_GAN/code4\\chapter_05\\04_batch_norm.py\n",
      "Found 8 lines in C:/E/Brownlee_GAN/code4\\chapter_05\\05_gauss_weight_init.py\n",
      "Found 10 lines in C:/E/Brownlee_GAN/code4\\chapter_05\\06_adam_sgd.py\n",
      "Found 20 lines in C:/E/Brownlee_GAN/code4\\chapter_05\\07_image_scaling.py\n",
      "Found 19 lines in C:/E/Brownlee_GAN/code4\\chapter_05\\08_gauss_latent.py\n",
      "Found 15 lines in C:/E/Brownlee_GAN/code4\\chapter_05\\09_positive_label_smoothing.py\n",
      "Found 15 lines in C:/E/Brownlee_GAN/code4\\chapter_05\\10_negative_label_smoothing.py\n",
      "Found 29 lines in C:/E/Brownlee_GAN/code4\\chapter_05\\11_noisy_labels.py\n",
      "Found 14 lines in C:/E/Brownlee_GAN/code4\\chapter_06\\01_plot_target_function.py\n",
      "Found 21 lines in C:/E/Brownlee_GAN/code4\\chapter_06\\02_sample_target_function.py\n",
      "Found 20 lines in C:/E/Brownlee_GAN/code4\\chapter_06\\03_define_discriminator.py\n",
      "Found 67 lines in C:/E/Brownlee_GAN/code4\\chapter_06\\04_fit_discriminator.py\n",
      "Found 18 lines in C:/E/Brownlee_GAN/code4\\chapter_06\\05_define_generator.py\n",
      "Found 37 lines in C:/E/Brownlee_GAN/code4\\chapter_06\\06_use_generator_model.py\n",
      "Found 47 lines in C:/E/Brownlee_GAN/code4\\chapter_06\\07_define_composite_model.py\n",
      "Found 125 lines in C:/E/Brownlee_GAN/code4\\chapter_06\\08_complete_example.py\n",
      "Found 7 lines in C:/E/Brownlee_GAN/code4\\chapter_07\\01_load_mnist.py\n",
      "Found 14 lines in C:/E/Brownlee_GAN/code4\\chapter_07\\02_plot_mnist.py\n",
      "Found 32 lines in C:/E/Brownlee_GAN/code4\\chapter_07\\03_summarize_discriminator.py\n",
      "Found 85 lines in C:/E/Brownlee_GAN/code4\\chapter_07\\04_train_discriminator.py\n",
      "Found 34 lines in C:/E/Brownlee_GAN/code4\\chapter_07\\05_summarize_generator.py\n",
      "Found 63 lines in C:/E/Brownlee_GAN/code4\\chapter_07\\06_use_generator.py\n",
      "Found 72 lines in C:/E/Brownlee_GAN/code4\\chapter_07\\07_summarize_composite.py\n",
      "Found 180 lines in C:/E/Brownlee_GAN/code4\\chapter_07\\08_complete_example.py\n",
      "Found 33 lines in C:/E/Brownlee_GAN/code4\\chapter_07\\09_load_use_generator.py\n",
      "Found 13 lines in C:/E/Brownlee_GAN/code4\\chapter_07\\10_generate_single_image.py\n",
      "Found 7 lines in C:/E/Brownlee_GAN/code4\\chapter_08\\01_load_cifar10.py\n",
      "Found 14 lines in C:/E/Brownlee_GAN/code4\\chapter_08\\02_plot_cifar10.py\n",
      "Found 40 lines in C:/E/Brownlee_GAN/code4\\chapter_08\\03_summarize_discriminator.py\n",
      "Found 92 lines in C:/E/Brownlee_GAN/code4\\chapter_08\\04_train_discriminator.py\n",
      "Found 38 lines in C:/E/Brownlee_GAN/code4\\chapter_08\\05_summarize_generator.py\n",
      "Found 69 lines in C:/E/Brownlee_GAN/code4\\chapter_08\\06_use_generator.py\n",
      "Found 84 lines in C:/E/Brownlee_GAN/code4\\chapter_08\\07_summarize_composite.py\n",
      "Found 191 lines in C:/E/Brownlee_GAN/code4\\chapter_08\\08_complete_example.py\n",
      "Found 35 lines in C:/E/Brownlee_GAN/code4\\chapter_08\\09_load_use_generator.py\n",
      "Found 15 lines in C:/E/Brownlee_GAN/code4\\chapter_08\\10_generate_single_image.py\n",
      "Found 48 lines in C:/E/Brownlee_GAN/code4\\chapter_09\\01_plot_faces.py\n",
      "Found 4 lines in C:/E/Brownlee_GAN/code4\\chapter_09\\02_check_mtcnn.py\n",
      "Found 67 lines in C:/E/Brownlee_GAN/code4\\chapter_09\\03_prepare_dataset.py\n",
      "Found 6 lines in C:/E/Brownlee_GAN/code4\\chapter_09\\04_load_saved_dataset.py\n",
      "Found 198 lines in C:/E/Brownlee_GAN/code4\\chapter_09\\05_train_gan.py\n",
      "Found 35 lines in C:/E/Brownlee_GAN/code4\\chapter_09\\06_load_and_generate.py\n",
      "Found 50 lines in C:/E/Brownlee_GAN/code4\\chapter_09\\07_interpolate_latent.py\n",
      "Found 59 lines in C:/E/Brownlee_GAN/code4\\chapter_09\\08_multiple_interpolate_latent.py\n",
      "Found 73 lines in C:/E/Brownlee_GAN/code4\\chapter_09\\09_multiple_slerp_latent.py\n",
      "Found 39 lines in C:/E/Brownlee_GAN/code4\\chapter_09\\10_generate_random_faces.py\n",
      "Found 61 lines in C:/E/Brownlee_GAN/code4\\chapter_09\\11_vector_arithmetic.py\n",
      "Found 210 lines in C:/E/Brownlee_GAN/code4\\chapter_10\\01_normal_train_gain.py\n",
      "Found 210 lines in C:/E/Brownlee_GAN/code4\\chapter_10\\02_mode_collapse.py\n",
      "Found 206 lines in C:/E/Brownlee_GAN/code4\\chapter_10\\03_convergence_failure.py\n",
      "Found 207 lines in C:/E/Brownlee_GAN/code4\\chapter_10\\04_different_convergence_failure.py\n",
      "Found 25 lines in C:/E/Brownlee_GAN/code4\\chapter_12\\01_inception_score_confident.py\n",
      "Found 25 lines in C:/E/Brownlee_GAN/code4\\chapter_12\\02_inception_score_uniform.py\n",
      "Found 50 lines in C:/E/Brownlee_GAN/code4\\chapter_12\\03_inception_score_keras.py\n",
      "Found 67 lines in C:/E/Brownlee_GAN/code4\\chapter_12\\04_inception_score_cifar10.py\n",
      "Found 35 lines in C:/E/Brownlee_GAN/code4\\chapter_13\\01_fid_numpy.py\n",
      "Found 65 lines in C:/E/Brownlee_GAN/code4\\chapter_13\\02_fid_keras.py\n",
      "Found 62 lines in C:/E/Brownlee_GAN/code4\\chapter_13\\03_fid_cifar10.py\n",
      "Found 203 lines in C:/E/Brownlee_GAN/code4\\chapter_15\\01_train_lsgan.py\n",
      "Found 33 lines in C:/E/Brownlee_GAN/code4\\chapter_15\\02_inference_lsgan.py\n",
      "Found 235 lines in C:/E/Brownlee_GAN/code4\\chapter_16\\01_train_wgan.py\n",
      "Found 33 lines in C:/E/Brownlee_GAN/code4\\chapter_16\\02_inference_wgan.py\n",
      "Found 7 lines in C:/E/Brownlee_GAN/code4\\chapter_17\\01_load_fasion_mnist.py\n",
      "Found 14 lines in C:/E/Brownlee_GAN/code4\\chapter_17\\02_plot_fashion_mnist.py\n",
      "Found 148 lines in C:/E/Brownlee_GAN/code4\\chapter_17\\03_train_unconditional_gan.py\n",
      "Found 33 lines in C:/E/Brownlee_GAN/code4\\chapter_17\\04_inference_unconditional_gan.py\n",
      "Found 187 lines in C:/E/Brownlee_GAN/code4\\chapter_17\\05_train_conditional_gan.py\n",
      "Found 41 lines in C:/E/Brownlee_GAN/code4\\chapter_17\\06_inference_conditional_gan.py\n",
      "Found 108 lines in C:/E/Brownlee_GAN/code4\\chapter_18\\01_define_plot_models.py\n",
      "Found 221 lines in C:/E/Brownlee_GAN/code4\\chapter_18\\02_train_infogan.py\n",
      "Found 51 lines in C:/E/Brownlee_GAN/code4\\chapter_18\\03_inference_infogan.py\n",
      "Found 53 lines in C:/E/Brownlee_GAN/code4\\chapter_18\\04_inference_control_code.py\n",
      "Found 57 lines in C:/E/Brownlee_GAN/code4\\chapter_19\\01_summarize_discriminator.py\n",
      "Found 54 lines in C:/E/Brownlee_GAN/code4\\chapter_19\\02_summarize_generator.py\n",
      "Found 220 lines in C:/E/Brownlee_GAN/code4\\chapter_19\\03_train_acgan.py\n",
      "Found 42 lines in C:/E/Brownlee_GAN/code4\\chapter_19\\04_inference_acgan.py\n",
      "Found 39 lines in C:/E/Brownlee_GAN/code4\\chapter_20\\01_summarize_discriminator.py\n",
      "Found 45 lines in C:/E/Brownlee_GAN/code4\\chapter_20\\02_summarize_separate_discriminators.py\n",
      "Found 41 lines in C:/E/Brownlee_GAN/code4\\chapter_20\\03_summarize_multi_output_discriminator.py\n",
      "Found 24 lines in C:/E/Brownlee_GAN/code4\\chapter_20\\04_custom_activation.py\n",
      "Found 56 lines in C:/E/Brownlee_GAN/code4\\chapter_20\\05_summarize_discriminator_cust_act.py\n",
      "Found 225 lines in C:/E/Brownlee_GAN/code4\\chapter_20\\06_train_sgan.py\n",
      "Found 22 lines in C:/E/Brownlee_GAN/code4\\chapter_20\\07_inference_sgan.py\n",
      "Found 19 lines in C:/E/Brownlee_GAN/code4\\chapter_22\\01_receptive_field.py\n",
      "Found 59 lines in C:/E/Brownlee_GAN/code4\\chapter_22\\02_define_summarize_patchgan.py\n",
      "Found 84 lines in C:/E/Brownlee_GAN/code4\\chapter_22\\03_define_summarize_unet.py\n",
      "Found 146 lines in C:/E/Brownlee_GAN/code4\\chapter_22\\04_define_summarize_composite.py\n",
      "Found 31 lines in C:/E/Brownlee_GAN/code4\\chapter_23\\01_prepare_dataset.py\n",
      "Found 19 lines in C:/E/Brownlee_GAN/code4\\chapter_23\\02_load_plot_dataset.py\n",
      "Found 244 lines in C:/E/Brownlee_GAN/code4\\chapter_23\\03_train_pix2pix.py\n",
      "Found 48 lines in C:/E/Brownlee_GAN/code4\\chapter_23\\04_inference_pix2pix.py\n",
      "Found 32 lines in C:/E/Brownlee_GAN/code4\\chapter_23\\05_translate_single_image.py\n",
      "Found 245 lines in C:/E/Brownlee_GAN/code4\\chapter_23\\06_train_pix2pix_reverse.py\n",
      "Found 51 lines in C:/E/Brownlee_GAN/code4\\chapter_25\\01_define_summarize_patchgan.py\n",
      "Found 69 lines in C:/E/Brownlee_GAN/code4\\chapter_25\\02_define_summarize_encoder_decoder.py\n",
      "Found 139 lines in C:/E/Brownlee_GAN/code4\\chapter_25\\03_define_summarize_composite.py\n",
      "Found 37 lines in C:/E/Brownlee_GAN/code4\\chapter_26\\01_load_prepare_dataset.py\n",
      "Found 19 lines in C:/E/Brownlee_GAN/code4\\chapter_26\\02_load_plot_dataset.py\n",
      "Found 279 lines in C:/E/Brownlee_GAN/code4\\chapter_26\\03_train_cyclegan.py\n",
      "Found 62 lines in C:/E/Brownlee_GAN/code4\\chapter_26\\04_inference_cyclegan.py\n",
      "Found 32 lines in C:/E/Brownlee_GAN/code4\\chapter_26\\05_translate_single_image.py\n",
      "Done\n"
     ]
    }
   ],
   "source": [
    "source = \"/E/Brownlee_GAN/code\"\n",
    "\n",
    "destination = \"C:/E/Brownlee_GAN/code4\"\n",
    "\n",
    "process_tree(source, destination, func=count_lines, verbose=False)\n",
    "print(\"Done\")"
   ]
  },
  {
   "cell_type": "code",
   "execution_count": 9,
   "id": "a65c352a",
   "metadata": {},
   "outputs": [],
   "source": [
    "import re\n",
    "def fix_tabs(path):\n",
    "    if(path.endswith(\".py\")):\n",
    "        with open(path) as file:\n",
    "            lines = file.readlines()\n",
    "            print(f'Found {len(lines)} lines in {path}')\n",
    "        out_lines = [re.sub('\\t','    ',line) for line in lines]\n",
    "        with open(path, 'w') as outfile:\n",
    "            for line in out_lines:\n",
    "                outfile.write(line)"
   ]
  },
  {
   "cell_type": "code",
   "execution_count": 10,
   "id": "dc41273a",
   "metadata": {},
   "outputs": [
    {
     "name": "stdout",
     "output_type": "stream",
     "text": [
      "Found 198 lines in C:/E/Brownlee_GAN/code4/chapter_09/05_train_gan.py\n"
     ]
    }
   ],
   "source": [
    "path = \"C:/E/Brownlee_GAN/code4/chapter_09/05_train_gan.py\"\n",
    "fix_tabs(path)"
   ]
  },
  {
   "cell_type": "code",
   "execution_count": 11,
   "id": "d62da0ab",
   "metadata": {},
   "outputs": [
    {
     "name": "stdout",
     "output_type": "stream",
     "text": [
      "Found 19 lines in C:/E/Brownlee_GAN/code_no_tab\\appendix_02\\01_python_versions.py\n",
      "Found 10 lines in C:/E/Brownlee_GAN/code_no_tab\\appendix_02\\02_deep_versions.py\n",
      "Found 15 lines in C:/E/Brownlee_GAN/code_no_tab\\chapter_02\\1_functional_mlp.py\n",
      "Found 21 lines in C:/E/Brownlee_GAN/code_no_tab\\chapter_02\\2_functional_cnn.py\n",
      "Found 15 lines in C:/E/Brownlee_GAN/code_no_tab\\chapter_02\\3_functional_rnn.py\n",
      "Found 22 lines in C:/E/Brownlee_GAN/code_no_tab\\chapter_03\\01_upsample_layer.py\n",
      "Found 18 lines in C:/E/Brownlee_GAN/code_no_tab\\chapter_03\\02_upsample_generator.py\n",
      "Found 26 lines in C:/E/Brownlee_GAN/code_no_tab\\chapter_03\\03_transpose_layer.py\n",
      "Found 15 lines in C:/E/Brownlee_GAN/code_no_tab\\chapter_03\\04_transpose_generator.py\n",
      "Found 8 lines in C:/E/Brownlee_GAN/code_no_tab\\chapter_05\\01_strided_downsample.py\n",
      "Found 8 lines in C:/E/Brownlee_GAN/code_no_tab\\chapter_05\\02_strided_upsample.py\n",
      "Found 10 lines in C:/E/Brownlee_GAN/code_no_tab\\chapter_05\\03_leaky_relu.py\n",
      "Found 12 lines in C:/E/Brownlee_GAN/code_no_tab\\chapter_05\\04_batch_norm.py\n",
      "Found 8 lines in C:/E/Brownlee_GAN/code_no_tab\\chapter_05\\05_gauss_weight_init.py\n",
      "Found 10 lines in C:/E/Brownlee_GAN/code_no_tab\\chapter_05\\06_adam_sgd.py\n",
      "Found 20 lines in C:/E/Brownlee_GAN/code_no_tab\\chapter_05\\07_image_scaling.py\n",
      "Found 19 lines in C:/E/Brownlee_GAN/code_no_tab\\chapter_05\\08_gauss_latent.py\n",
      "Found 15 lines in C:/E/Brownlee_GAN/code_no_tab\\chapter_05\\09_positive_label_smoothing.py\n",
      "Found 15 lines in C:/E/Brownlee_GAN/code_no_tab\\chapter_05\\10_negative_label_smoothing.py\n",
      "Found 29 lines in C:/E/Brownlee_GAN/code_no_tab\\chapter_05\\11_noisy_labels.py\n",
      "Found 14 lines in C:/E/Brownlee_GAN/code_no_tab\\chapter_06\\01_plot_target_function.py\n",
      "Found 21 lines in C:/E/Brownlee_GAN/code_no_tab\\chapter_06\\02_sample_target_function.py\n",
      "Found 20 lines in C:/E/Brownlee_GAN/code_no_tab\\chapter_06\\03_define_discriminator.py\n",
      "Found 67 lines in C:/E/Brownlee_GAN/code_no_tab\\chapter_06\\04_fit_discriminator.py\n",
      "Found 18 lines in C:/E/Brownlee_GAN/code_no_tab\\chapter_06\\05_define_generator.py\n",
      "Found 37 lines in C:/E/Brownlee_GAN/code_no_tab\\chapter_06\\06_use_generator_model.py\n",
      "Found 47 lines in C:/E/Brownlee_GAN/code_no_tab\\chapter_06\\07_define_composite_model.py\n",
      "Found 125 lines in C:/E/Brownlee_GAN/code_no_tab\\chapter_06\\08_complete_example.py\n",
      "Found 7 lines in C:/E/Brownlee_GAN/code_no_tab\\chapter_07\\01_load_mnist.py\n",
      "Found 14 lines in C:/E/Brownlee_GAN/code_no_tab\\chapter_07\\02_plot_mnist.py\n",
      "Found 32 lines in C:/E/Brownlee_GAN/code_no_tab\\chapter_07\\03_summarize_discriminator.py\n",
      "Found 85 lines in C:/E/Brownlee_GAN/code_no_tab\\chapter_07\\04_train_discriminator.py\n",
      "Found 34 lines in C:/E/Brownlee_GAN/code_no_tab\\chapter_07\\05_summarize_generator.py\n",
      "Found 63 lines in C:/E/Brownlee_GAN/code_no_tab\\chapter_07\\06_use_generator.py\n",
      "Found 72 lines in C:/E/Brownlee_GAN/code_no_tab\\chapter_07\\07_summarize_composite.py\n",
      "Found 180 lines in C:/E/Brownlee_GAN/code_no_tab\\chapter_07\\08_complete_example.py\n",
      "Found 33 lines in C:/E/Brownlee_GAN/code_no_tab\\chapter_07\\09_load_use_generator.py\n",
      "Found 13 lines in C:/E/Brownlee_GAN/code_no_tab\\chapter_07\\10_generate_single_image.py\n",
      "Found 7 lines in C:/E/Brownlee_GAN/code_no_tab\\chapter_08\\01_load_cifar10.py\n",
      "Found 14 lines in C:/E/Brownlee_GAN/code_no_tab\\chapter_08\\02_plot_cifar10.py\n",
      "Found 40 lines in C:/E/Brownlee_GAN/code_no_tab\\chapter_08\\03_summarize_discriminator.py\n",
      "Found 92 lines in C:/E/Brownlee_GAN/code_no_tab\\chapter_08\\04_train_discriminator.py\n",
      "Found 38 lines in C:/E/Brownlee_GAN/code_no_tab\\chapter_08\\05_summarize_generator.py\n",
      "Found 69 lines in C:/E/Brownlee_GAN/code_no_tab\\chapter_08\\06_use_generator.py\n",
      "Found 84 lines in C:/E/Brownlee_GAN/code_no_tab\\chapter_08\\07_summarize_composite.py\n",
      "Found 191 lines in C:/E/Brownlee_GAN/code_no_tab\\chapter_08\\08_complete_example.py\n",
      "Found 35 lines in C:/E/Brownlee_GAN/code_no_tab\\chapter_08\\09_load_use_generator.py\n",
      "Found 15 lines in C:/E/Brownlee_GAN/code_no_tab\\chapter_08\\10_generate_single_image.py\n",
      "Found 48 lines in C:/E/Brownlee_GAN/code_no_tab\\chapter_09\\01_plot_faces.py\n",
      "Found 4 lines in C:/E/Brownlee_GAN/code_no_tab\\chapter_09\\02_check_mtcnn.py\n",
      "Found 67 lines in C:/E/Brownlee_GAN/code_no_tab\\chapter_09\\03_prepare_dataset.py\n",
      "Found 6 lines in C:/E/Brownlee_GAN/code_no_tab\\chapter_09\\04_load_saved_dataset.py\n",
      "Found 198 lines in C:/E/Brownlee_GAN/code_no_tab\\chapter_09\\05_train_gan.py\n",
      "Found 35 lines in C:/E/Brownlee_GAN/code_no_tab\\chapter_09\\06_load_and_generate.py\n",
      "Found 50 lines in C:/E/Brownlee_GAN/code_no_tab\\chapter_09\\07_interpolate_latent.py\n",
      "Found 59 lines in C:/E/Brownlee_GAN/code_no_tab\\chapter_09\\08_multiple_interpolate_latent.py\n",
      "Found 73 lines in C:/E/Brownlee_GAN/code_no_tab\\chapter_09\\09_multiple_slerp_latent.py\n",
      "Found 39 lines in C:/E/Brownlee_GAN/code_no_tab\\chapter_09\\10_generate_random_faces.py\n",
      "Found 61 lines in C:/E/Brownlee_GAN/code_no_tab\\chapter_09\\11_vector_arithmetic.py\n",
      "Found 210 lines in C:/E/Brownlee_GAN/code_no_tab\\chapter_10\\01_normal_train_gain.py\n",
      "Found 210 lines in C:/E/Brownlee_GAN/code_no_tab\\chapter_10\\02_mode_collapse.py\n",
      "Found 206 lines in C:/E/Brownlee_GAN/code_no_tab\\chapter_10\\03_convergence_failure.py\n",
      "Found 207 lines in C:/E/Brownlee_GAN/code_no_tab\\chapter_10\\04_different_convergence_failure.py\n",
      "Found 25 lines in C:/E/Brownlee_GAN/code_no_tab\\chapter_12\\01_inception_score_confident.py\n",
      "Found 25 lines in C:/E/Brownlee_GAN/code_no_tab\\chapter_12\\02_inception_score_uniform.py\n",
      "Found 50 lines in C:/E/Brownlee_GAN/code_no_tab\\chapter_12\\03_inception_score_keras.py\n",
      "Found 67 lines in C:/E/Brownlee_GAN/code_no_tab\\chapter_12\\04_inception_score_cifar10.py\n",
      "Found 35 lines in C:/E/Brownlee_GAN/code_no_tab\\chapter_13\\01_fid_numpy.py\n",
      "Found 65 lines in C:/E/Brownlee_GAN/code_no_tab\\chapter_13\\02_fid_keras.py\n",
      "Found 62 lines in C:/E/Brownlee_GAN/code_no_tab\\chapter_13\\03_fid_cifar10.py\n",
      "Found 203 lines in C:/E/Brownlee_GAN/code_no_tab\\chapter_15\\01_train_lsgan.py\n",
      "Found 33 lines in C:/E/Brownlee_GAN/code_no_tab\\chapter_15\\02_inference_lsgan.py\n",
      "Found 235 lines in C:/E/Brownlee_GAN/code_no_tab\\chapter_16\\01_train_wgan.py\n",
      "Found 33 lines in C:/E/Brownlee_GAN/code_no_tab\\chapter_16\\02_inference_wgan.py\n",
      "Found 7 lines in C:/E/Brownlee_GAN/code_no_tab\\chapter_17\\01_load_fasion_mnist.py\n",
      "Found 14 lines in C:/E/Brownlee_GAN/code_no_tab\\chapter_17\\02_plot_fashion_mnist.py\n",
      "Found 148 lines in C:/E/Brownlee_GAN/code_no_tab\\chapter_17\\03_train_unconditional_gan.py\n",
      "Found 33 lines in C:/E/Brownlee_GAN/code_no_tab\\chapter_17\\04_inference_unconditional_gan.py\n",
      "Found 187 lines in C:/E/Brownlee_GAN/code_no_tab\\chapter_17\\05_train_conditional_gan.py\n",
      "Found 41 lines in C:/E/Brownlee_GAN/code_no_tab\\chapter_17\\06_inference_conditional_gan.py\n",
      "Found 108 lines in C:/E/Brownlee_GAN/code_no_tab\\chapter_18\\01_define_plot_models.py\n",
      "Found 221 lines in C:/E/Brownlee_GAN/code_no_tab\\chapter_18\\02_train_infogan.py\n",
      "Found 51 lines in C:/E/Brownlee_GAN/code_no_tab\\chapter_18\\03_inference_infogan.py\n",
      "Found 53 lines in C:/E/Brownlee_GAN/code_no_tab\\chapter_18\\04_inference_control_code.py\n",
      "Found 57 lines in C:/E/Brownlee_GAN/code_no_tab\\chapter_19\\01_summarize_discriminator.py\n",
      "Found 54 lines in C:/E/Brownlee_GAN/code_no_tab\\chapter_19\\02_summarize_generator.py\n",
      "Found 220 lines in C:/E/Brownlee_GAN/code_no_tab\\chapter_19\\03_train_acgan.py\n",
      "Found 42 lines in C:/E/Brownlee_GAN/code_no_tab\\chapter_19\\04_inference_acgan.py\n",
      "Found 39 lines in C:/E/Brownlee_GAN/code_no_tab\\chapter_20\\01_summarize_discriminator.py\n",
      "Found 45 lines in C:/E/Brownlee_GAN/code_no_tab\\chapter_20\\02_summarize_separate_discriminators.py\n",
      "Found 41 lines in C:/E/Brownlee_GAN/code_no_tab\\chapter_20\\03_summarize_multi_output_discriminator.py\n",
      "Found 24 lines in C:/E/Brownlee_GAN/code_no_tab\\chapter_20\\04_custom_activation.py\n",
      "Found 56 lines in C:/E/Brownlee_GAN/code_no_tab\\chapter_20\\05_summarize_discriminator_cust_act.py\n",
      "Found 225 lines in C:/E/Brownlee_GAN/code_no_tab\\chapter_20\\06_train_sgan.py\n",
      "Found 22 lines in C:/E/Brownlee_GAN/code_no_tab\\chapter_20\\07_inference_sgan.py\n",
      "Found 19 lines in C:/E/Brownlee_GAN/code_no_tab\\chapter_22\\01_receptive_field.py\n",
      "Found 59 lines in C:/E/Brownlee_GAN/code_no_tab\\chapter_22\\02_define_summarize_patchgan.py\n",
      "Found 84 lines in C:/E/Brownlee_GAN/code_no_tab\\chapter_22\\03_define_summarize_unet.py\n",
      "Found 146 lines in C:/E/Brownlee_GAN/code_no_tab\\chapter_22\\04_define_summarize_composite.py\n",
      "Found 31 lines in C:/E/Brownlee_GAN/code_no_tab\\chapter_23\\01_prepare_dataset.py\n",
      "Found 19 lines in C:/E/Brownlee_GAN/code_no_tab\\chapter_23\\02_load_plot_dataset.py\n",
      "Found 244 lines in C:/E/Brownlee_GAN/code_no_tab\\chapter_23\\03_train_pix2pix.py\n",
      "Found 48 lines in C:/E/Brownlee_GAN/code_no_tab\\chapter_23\\04_inference_pix2pix.py\n",
      "Found 32 lines in C:/E/Brownlee_GAN/code_no_tab\\chapter_23\\05_translate_single_image.py\n",
      "Found 245 lines in C:/E/Brownlee_GAN/code_no_tab\\chapter_23\\06_train_pix2pix_reverse.py\n",
      "Found 51 lines in C:/E/Brownlee_GAN/code_no_tab\\chapter_25\\01_define_summarize_patchgan.py\n",
      "Found 69 lines in C:/E/Brownlee_GAN/code_no_tab\\chapter_25\\02_define_summarize_encoder_decoder.py\n",
      "Found 139 lines in C:/E/Brownlee_GAN/code_no_tab\\chapter_25\\03_define_summarize_composite.py\n",
      "Found 37 lines in C:/E/Brownlee_GAN/code_no_tab\\chapter_26\\01_load_prepare_dataset.py\n",
      "Found 19 lines in C:/E/Brownlee_GAN/code_no_tab\\chapter_26\\02_load_plot_dataset.py\n",
      "Found 279 lines in C:/E/Brownlee_GAN/code_no_tab\\chapter_26\\03_train_cyclegan.py\n",
      "Found 62 lines in C:/E/Brownlee_GAN/code_no_tab\\chapter_26\\04_inference_cyclegan.py\n",
      "Found 32 lines in C:/E/Brownlee_GAN/code_no_tab\\chapter_26\\05_translate_single_image.py\n",
      "Done\n"
     ]
    }
   ],
   "source": [
    "source = \"/E/Brownlee_GAN/code\"\n",
    "\n",
    "destination = \"C:/E/Brownlee_GAN/code_no_tab\"\n",
    "\n",
    "process_tree(source, destination, func=fix_tabs)\n",
    "print(\"Done\")"
   ]
  },
  {
   "cell_type": "code",
   "execution_count": 65,
   "id": "91709879-4580-4236-87d5-86b93b7a4628",
   "metadata": {},
   "outputs": [
    {
     "name": "stdout",
     "output_type": "stream",
     "text": [
      "Found 198 lines in C:/E/Brownlee_GAN/code4/chapter_09/05_train_gan.py\n"
     ]
    }
   ],
   "source": [
    "path = \"C:/E/Brownlee_GAN/code4/chapter_09/05_train_gan.py\"\n",
    "count_lines(path)"
   ]
  },
  {
   "cell_type": "code",
   "execution_count": null,
   "id": "5ee0bac3-8c62-4bc7-92fb-9333403bbf91",
   "metadata": {},
   "outputs": [],
   "source": []
  },
  {
   "cell_type": "code",
   "execution_count": 31,
   "id": "f2118528-505f-40a8-af46-9deb179de412",
   "metadata": {},
   "outputs": [],
   "source": [
    "import os\n",
    "def count_lines(path):\n",
    "    if(os.path.isfile(path)):\n",
    "        with open(path) as infile:\n",
    "            count = len(infile.readlines())\n",
    "            print(f'Found {count} lines in {path}')"
   ]
  },
  {
   "cell_type": "code",
   "execution_count": null,
   "id": "e2c4a1fc-cbf9-44e0-af9a-6e3ec12cab0f",
   "metadata": {},
   "outputs": [],
   "source": [
    "#badpath = \"C:/LOGS/2024_07_JUL/JULY_10_CMP1/outbound/report/07102024/MI/MI_20240710.dat\"\n",
    "\n",
    "badpath = \"C:/LOGS/2024_07_JUL/JULY_10_CMP1/outbound/report/07102024/MA/MA_20240710.dat\""
   ]
  },
  {
   "cell_type": "code",
   "execution_count": 60,
   "id": "11a6b182-9b5e-459a-9312-862c8cc11721",
   "metadata": {},
   "outputs": [],
   "source": [
    "import os\n",
    "import codecs\n",
    "def count_utf8(path):\n",
    "    if(os.path.isfile(path)):\n",
    "        with codecs.open(path, 'r', 'utf-8') as infile:\n",
    "            count = len(infile.readlines())\n",
    "            print(f'Found {count} lines in {path}')         "
   ]
  },
  {
   "cell_type": "code",
   "execution_count": 87,
   "id": "ac08186b-97e0-4e18-8438-f564ac0cacc2",
   "metadata": {},
   "outputs": [],
   "source": [
    "import os\n",
    "import codecs\n",
    "import re\n",
    "def break_lines_utf8(path):\n",
    "    if(os.path.isfile(path)):\n",
    "        data = None\n",
    "        count = None\n",
    "        with codecs.open(path, 'r', 'utf-8') as infile:\n",
    "            data = infile.readlines()\n",
    "            count = len(data)\n",
    "            print(f'Found {len(data)} lines in {path}')\n",
    "        if count > 1:\n",
    "            return\n",
    "        if count == 1:\n",
    "            data2 = data[0].split(\"\\\\\")\n",
    "            count2 = len(data2)\n",
    "            print(f'data2 lines = {count2}')\n",
    "            with codecs.open(path, 'w', 'utf-8') as outfile:\n",
    "                for line in data2:\n",
    "                    outfile.write(line + '\\n')"
   ]
  },
  {
   "cell_type": "code",
   "execution_count": 89,
   "id": "fa8f0945-f4f8-499f-bb46-e4f82cb6db37",
   "metadata": {},
   "outputs": [
    {
     "name": "stdout",
     "output_type": "stream",
     "text": [
      "Found 44 lines in C:/LOGS/2024_07_JUL/JULY_10_CMP1/outbound/report/07102024/MA/MA_20240710.dat\n"
     ]
    }
   ],
   "source": [
    "break_lines_utf8(badpath)"
   ]
  },
  {
   "cell_type": "code",
   "execution_count": null,
   "id": "18030f68-ea7c-4119-944f-410e49670759",
   "metadata": {},
   "outputs": [],
   "source": []
  },
  {
   "cell_type": "code",
   "execution_count": null,
   "id": "5088dfa4-302a-46eb-8bb5-1a2aa3efe307",
   "metadata": {},
   "outputs": [],
   "source": []
  },
  {
   "cell_type": "code",
   "execution_count": null,
   "id": "b7c00d71-733b-4958-9d2f-63c98ab034e5",
   "metadata": {},
   "outputs": [],
   "source": []
  },
  {
   "cell_type": "code",
   "execution_count": 16,
   "id": "a60a4ba4-e315-4e88-8cd6-15769abca313",
   "metadata": {},
   "outputs": [],
   "source": [
    "def check_path(path):\n",
    "    if os.path.isfile(path):\n",
    "        print(f'{path} is a file')\n",
    "    if os.path.isdir(path):\n",
    "        print(f'{path} is a directory')"
   ]
  },
  {
   "cell_type": "code",
   "execution_count": 91,
   "id": "753775d1",
   "metadata": {},
   "outputs": [
    {
     "name": "stdout",
     "output_type": "stream",
     "text": [
      "Dir: outbound\n",
      "Dir: report\n",
      "Dir: 07102024\n",
      "Dir: AK\n",
      "File: AK_20240710.dat\n",
      "Found 1 lines in C:/LOGS/2024_07_JUL/JULY_10_CMP1\\outbound\\report\\07102024\\AK\\AK_20240710.dat\n",
      "data2 lines = 28\n",
      "Dir: AR\n",
      "File: AR_20240710.dat\n",
      "Found 1 lines in C:/LOGS/2024_07_JUL/JULY_10_CMP1\\outbound\\report\\07102024\\AR\\AR_20240710.dat\n",
      "data2 lines = 39\n",
      "Dir: CA\n",
      "File: CA_20240710.dat\n",
      "Found 1 lines in C:/LOGS/2024_07_JUL/JULY_10_CMP1\\outbound\\report\\07102024\\CA\\CA_20240710.dat\n",
      "data2 lines = 32\n",
      "Dir: CO\n",
      "File: CO_20240710.dat\n",
      "Found 1 lines in C:/LOGS/2024_07_JUL/JULY_10_CMP1\\outbound\\report\\07102024\\CO\\CO_20240710.dat\n",
      "data2 lines = 707\n",
      "Dir: FL\n",
      "File: FL_20240710.dat\n",
      "Found 1 lines in C:/LOGS/2024_07_JUL/JULY_10_CMP1\\outbound\\report\\07102024\\FL\\FL_20240710.dat\n",
      "data2 lines = 263\n",
      "Dir: KS\n",
      "File: KS_20240710.dat\n",
      "Found 1 lines in C:/LOGS/2024_07_JUL/JULY_10_CMP1\\outbound\\report\\07102024\\KS\\KS_20240710.dat\n",
      "data2 lines = 15\n",
      "Dir: KY\n",
      "File: KY_20240710.dat\n",
      "Found 1 lines in C:/LOGS/2024_07_JUL/JULY_10_CMP1\\outbound\\report\\07102024\\KY\\KY_20240710.dat\n",
      "data2 lines = 248\n",
      "Dir: MA\n",
      "File: MA_20240710.dat\n",
      "Found 1 lines in C:/LOGS/2024_07_JUL/JULY_10_CMP1\\outbound\\report\\07102024\\MA\\MA_20240710.dat\n",
      "data2 lines = 44\n",
      "Dir: MI\n",
      "File: MI_20240710.dat\n",
      "Found 782 lines in C:/LOGS/2024_07_JUL/JULY_10_CMP1\\outbound\\report\\07102024\\MI\\MI_20240710.dat\n",
      "Dir: MN\n",
      "File: MN_20240710.dat\n",
      "Found 38 lines in C:/LOGS/2024_07_JUL/JULY_10_CMP1\\outbound\\report\\07102024\\MN\\MN_20240710.dat\n",
      "Dir: NC\n",
      "File: NC_20240710.dat\n",
      "Found 1 lines in C:/LOGS/2024_07_JUL/JULY_10_CMP1\\outbound\\report\\07102024\\NC\\NC_20240710.dat\n",
      "data2 lines = 16\n",
      "Dir: NJ\n",
      "File: NJ_20240710.dat\n",
      "Found 1 lines in C:/LOGS/2024_07_JUL/JULY_10_CMP1\\outbound\\report\\07102024\\NJ\\NJ_20240710.dat\n",
      "data2 lines = 55\n",
      "Dir: NY\n",
      "File: NY_20240710.dat\n",
      "Found 3557 lines in C:/LOGS/2024_07_JUL/JULY_10_CMP1\\outbound\\report\\07102024\\NY\\NY_20240710.dat\n",
      "Dir: OH\n",
      "File: OH_20240710.dat\n",
      "Found 1 lines in C:/LOGS/2024_07_JUL/JULY_10_CMP1\\outbound\\report\\07102024\\OH\\OH_20240710.dat\n",
      "data2 lines = 512\n",
      "Dir: OK\n",
      "File: OK_20240710.dat\n",
      "Found 1 lines in C:/LOGS/2024_07_JUL/JULY_10_CMP1\\outbound\\report\\07102024\\OK\\OK_20240710.dat\n",
      "data2 lines = 646\n",
      "Dir: PA\n",
      "File: PA_20240710.dat\n",
      "Found 1 lines in C:/LOGS/2024_07_JUL/JULY_10_CMP1\\outbound\\report\\07102024\\PA\\PA_20240710.dat\n",
      "data2 lines = 255\n",
      "Dir: RI\n",
      "File: RI_20240710.dat\n",
      "Found 76 lines in C:/LOGS/2024_07_JUL/JULY_10_CMP1\\outbound\\report\\07102024\\RI\\RI_20240710.dat\n",
      "Dir: TN\n",
      "File: TN_20240710.dat\n",
      "Found 1 lines in C:/LOGS/2024_07_JUL/JULY_10_CMP1\\outbound\\report\\07102024\\TN\\TN_20240710.dat\n",
      "data2 lines = 689\n",
      "Dir: TX\n",
      "File: TX_20240710.dat\n",
      "Found 1 lines in C:/LOGS/2024_07_JUL/JULY_10_CMP1\\outbound\\report\\07102024\\TX\\TX_20240710.dat\n",
      "data2 lines = 53\n",
      "Dir: VA\n",
      "File: VA_20240710.dat\n",
      "Found 1 lines in C:/LOGS/2024_07_JUL/JULY_10_CMP1\\outbound\\report\\07102024\\VA\\VA_20240710.dat\n",
      "data2 lines = 49\n",
      "Dir: WA\n",
      "File: WA_20240710.dat\n",
      "Found 1 lines in C:/LOGS/2024_07_JUL/JULY_10_CMP1\\outbound\\report\\07102024\\WA\\WA_20240710.dat\n",
      "data2 lines = 31\n",
      "Dir: outbound\n",
      "Dir: report\n",
      "Dir: 07102024\n",
      "Dir: AK\n",
      "File: AK_20240710.dat\n",
      "Found 1 lines in C:/LOGS/2024_07_JUL/JULY_10_CMP2\\outbound\\report\\07102024\\AK\\AK_20240710.dat\n",
      "data2 lines = 28\n",
      "Dir: AR\n",
      "File: AR_20240710.dat\n",
      "Found 1 lines in C:/LOGS/2024_07_JUL/JULY_10_CMP2\\outbound\\report\\07102024\\AR\\AR_20240710.dat\n",
      "data2 lines = 39\n",
      "Dir: CA\n",
      "File: CA_20240710.dat\n",
      "Found 1 lines in C:/LOGS/2024_07_JUL/JULY_10_CMP2\\outbound\\report\\07102024\\CA\\CA_20240710.dat\n",
      "data2 lines = 32\n",
      "Dir: CO\n",
      "File: CO_20240710.dat\n",
      "Found 1 lines in C:/LOGS/2024_07_JUL/JULY_10_CMP2\\outbound\\report\\07102024\\CO\\CO_20240710.dat\n",
      "data2 lines = 707\n",
      "Dir: FL\n",
      "File: FL_20240710.dat\n",
      "Found 1 lines in C:/LOGS/2024_07_JUL/JULY_10_CMP2\\outbound\\report\\07102024\\FL\\FL_20240710.dat\n",
      "data2 lines = 263\n",
      "Dir: KS\n",
      "File: KS_20240710.dat\n",
      "Found 1 lines in C:/LOGS/2024_07_JUL/JULY_10_CMP2\\outbound\\report\\07102024\\KS\\KS_20240710.dat\n",
      "data2 lines = 15\n",
      "Dir: KY\n",
      "File: KY_20240710.dat\n",
      "Found 1 lines in C:/LOGS/2024_07_JUL/JULY_10_CMP2\\outbound\\report\\07102024\\KY\\KY_20240710.dat\n",
      "data2 lines = 248\n",
      "Dir: MA\n",
      "File: MA_20240710.dat\n",
      "Found 1 lines in C:/LOGS/2024_07_JUL/JULY_10_CMP2\\outbound\\report\\07102024\\MA\\MA_20240710.dat\n",
      "data2 lines = 44\n",
      "Dir: MI\n",
      "File: MI_20240710.dat\n",
      "Found 782 lines in C:/LOGS/2024_07_JUL/JULY_10_CMP2\\outbound\\report\\07102024\\MI\\MI_20240710.dat\n",
      "Dir: MN\n",
      "File: MN_20240710.dat\n",
      "Found 38 lines in C:/LOGS/2024_07_JUL/JULY_10_CMP2\\outbound\\report\\07102024\\MN\\MN_20240710.dat\n",
      "Dir: MO\n",
      "File: MO_20240710.dat\n",
      "Found 1 lines in C:/LOGS/2024_07_JUL/JULY_10_CMP2\\outbound\\report\\07102024\\MO\\MO_20240710.dat\n",
      "data2 lines = 119\n",
      "Dir: NC\n",
      "File: NC_20240710.dat\n",
      "Found 1 lines in C:/LOGS/2024_07_JUL/JULY_10_CMP2\\outbound\\report\\07102024\\NC\\NC_20240710.dat\n",
      "data2 lines = 16\n",
      "Dir: NJ\n",
      "File: NJ_20240710.dat\n",
      "Found 1 lines in C:/LOGS/2024_07_JUL/JULY_10_CMP2\\outbound\\report\\07102024\\NJ\\NJ_20240710.dat\n",
      "data2 lines = 55\n",
      "Dir: NY\n",
      "File: NY_20240710.dat\n",
      "Found 3557 lines in C:/LOGS/2024_07_JUL/JULY_10_CMP2\\outbound\\report\\07102024\\NY\\NY_20240710.dat\n",
      "Dir: OH\n",
      "File: OH_20240710.dat\n",
      "Found 1 lines in C:/LOGS/2024_07_JUL/JULY_10_CMP2\\outbound\\report\\07102024\\OH\\OH_20240710.dat\n",
      "data2 lines = 512\n",
      "Dir: OK\n",
      "File: OK_20240710.dat\n",
      "Found 1 lines in C:/LOGS/2024_07_JUL/JULY_10_CMP2\\outbound\\report\\07102024\\OK\\OK_20240710.dat\n",
      "data2 lines = 646\n",
      "Dir: PA\n",
      "File: PA_20240710.dat\n",
      "Found 1 lines in C:/LOGS/2024_07_JUL/JULY_10_CMP2\\outbound\\report\\07102024\\PA\\PA_20240710.dat\n",
      "data2 lines = 255\n",
      "Dir: RI\n",
      "File: RI_20240710.dat\n",
      "Found 76 lines in C:/LOGS/2024_07_JUL/JULY_10_CMP2\\outbound\\report\\07102024\\RI\\RI_20240710.dat\n",
      "Dir: TN\n",
      "File: TN_20240710.dat\n",
      "Found 1 lines in C:/LOGS/2024_07_JUL/JULY_10_CMP2\\outbound\\report\\07102024\\TN\\TN_20240710.dat\n",
      "data2 lines = 689\n",
      "Dir: TX\n",
      "File: TX_20240710.dat\n",
      "Found 1 lines in C:/LOGS/2024_07_JUL/JULY_10_CMP2\\outbound\\report\\07102024\\TX\\TX_20240710.dat\n",
      "data2 lines = 53\n",
      "Dir: VA\n",
      "File: VA_20240710.dat\n",
      "Found 1 lines in C:/LOGS/2024_07_JUL/JULY_10_CMP2\\outbound\\report\\07102024\\VA\\VA_20240710.dat\n",
      "data2 lines = 49\n",
      "Dir: WA\n",
      "File: WA_20240710.dat\n",
      "Found 1 lines in C:/LOGS/2024_07_JUL/JULY_10_CMP2\\outbound\\report\\07102024\\WA\\WA_20240710.dat\n",
      "data2 lines = 31\n"
     ]
    }
   ],
   "source": [
    "source1 = \"C:/g/2024B/erx/projects/erx-batch/build/resources/main/data/csr\"\n",
    "source2 = \"C:/g/2024B/erx/projects/erx-batch/build/resources/main/data/csr2\"\n",
    "\n",
    "dest1 = \"C:/LOGS/2024_07_JUL/JULY_10_CMP1\"\n",
    "dest2 = \"C:/LOGS/2024_07_JUL/JULY_10_CMP2\"\n",
    "\n",
    "process_tree(source1, dest1, func=break_lines_utf8, verbose=True)\n",
    "process_tree(source2, dest2, func=break_lines_utf8, verbose=True)"
   ]
  },
  {
   "cell_type": "code",
   "execution_count": 21,
   "id": "869d1826-ee36-4e88-9baa-9b87444155ea",
   "metadata": {},
   "outputs": [
    {
     "name": "stdout",
     "output_type": "stream",
     "text": [
      "C:/g/2024B/erx/projects/erx-batch/build/resources is a directory\n"
     ]
    }
   ],
   "source": [
    "check_path('C:/g/2024B/erx/projects/erx-batch/build/resources')"
   ]
  },
  {
   "cell_type": "code",
   "execution_count": 62,
   "id": "2f4e40bc-7b09-42af-9122-708e361d5357",
   "metadata": {},
   "outputs": [],
   "source": [
    "#badpath = \"C:/LOGS/2024_07_JUL/JULY_10_CMP1/outbound/report/07102024/MI/MI_20240710.dat\"\n",
    "\n",
    "badpath = \"C:/LOGS/2024_07_JUL/JULY_10_CMP1/outbound/report/07102024/MA/MA_20240710.dat\""
   ]
  },
  {
   "cell_type": "code",
   "execution_count": 63,
   "id": "86bf1d31-ca8a-415c-a38e-37de5802af52",
   "metadata": {},
   "outputs": [
    {
     "name": "stdout",
     "output_type": "stream",
     "text": [
      "Found 1 lines in C:/LOGS/2024_07_JUL/JULY_10_CMP1/outbound/report/07102024/MA/MA_20240710.dat\n"
     ]
    }
   ],
   "source": [
    "count_utf8(badpath)"
   ]
  },
  {
   "cell_type": "code",
   "execution_count": null,
   "id": "74de36fa-0539-48ce-8b47-1c0ecb73871e",
   "metadata": {},
   "outputs": [],
   "source": []
  },
  {
   "cell_type": "code",
   "execution_count": 55,
   "id": "817c9b96-bd9b-4fce-96be-712e38e39354",
   "metadata": {},
   "outputs": [
    {
     "name": "stdout",
     "output_type": "stream",
     "text": [
      "782\n",
      "PHA*1234567893*8888887*LT1111119*QA25 03102 RETAIL PHARMACY*16 NORTH MIDDLETOWN ROAD**INDIANAPOLIS*IN*46201*8457777777*NATASHA QUIRK*03102***\n",
      "\n"
     ]
    }
   ],
   "source": [
    "import codecs\n",
    "with codecs.open(badpath, \"r\", \"utf-8\") as f:\n",
    "    str = f.readlines()\n",
    "    print(len(str))\n",
    "    print(str[3])"
   ]
  },
  {
   "cell_type": "code",
   "execution_count": 41,
   "id": "0fb7ca04-2f1d-4265-8a79-893b7370811d",
   "metadata": {},
   "outputs": [
    {
     "name": "stdout",
     "output_type": "stream",
     "text": [
      "C:/LOGS/2024_07_JUL/JULY_10_CMP1/outbound/report/07102024/MA/MA_20240710.dat is a file\n"
     ]
    }
   ],
   "source": [
    "check_path(badpath)"
   ]
  },
  {
   "cell_type": "code",
   "execution_count": 35,
   "id": "5074f0fc-9d62-4262-b270-ada916fb38dd",
   "metadata": {},
   "outputs": [
    {
     "name": "stdout",
     "output_type": "stream",
     "text": [
      "eport902024\\MA\\MA_20240710.datP1\\outbound\n"
     ]
    }
   ],
   "source": [
    "print(badpath)\n",
    "count_lines(badpath)"
   ]
  },
  {
   "cell_type": "code",
   "execution_count": null,
   "id": "cabddb7c-a307-4c16-83ca-95042f72d13f",
   "metadata": {},
   "outputs": [],
   "source": []
  }
 ],
 "metadata": {
  "kernelspec": {
   "display_name": "Python 3 (ipykernel)",
   "language": "python",
   "name": "python3"
  },
  "language_info": {
   "codemirror_mode": {
    "name": "ipython",
    "version": 3
   },
   "file_extension": ".py",
   "mimetype": "text/x-python",
   "name": "python",
   "nbconvert_exporter": "python",
   "pygments_lexer": "ipython3",
   "version": "3.10.5"
  }
 },
 "nbformat": 4,
 "nbformat_minor": 5
}
